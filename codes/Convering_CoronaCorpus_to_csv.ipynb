{
 "cells": [
  {
   "cell_type": "code",
   "execution_count": 94,
   "metadata": {},
   "outputs": [],
   "source": [
    "import pandas as pd\n",
    "import zipfile\n",
    "import re\n",
    "import torch"
   ]
  },
  {
   "cell_type": "code",
   "execution_count": 69,
   "metadata": {},
   "outputs": [],
   "source": [
    "import os"
   ]
  },
  {
   "cell_type": "code",
   "execution_count": 99,
   "metadata": {},
   "outputs": [
    {
     "data": {
      "text/plain": [
       "device(type='cpu')"
      ]
     },
     "execution_count": 99,
     "metadata": {},
     "output_type": "execute_result"
    }
   ],
   "source": [
    "gpu = torch.cuda.is_available()\n",
    "device = torch.device(\"cuda\" if torch.cuda.is_available() else \"cpu\")\n",
    "if gpu:\n",
    "    n_gpu = torch.cuda.device_count()\n",
    "    torch.cuda.get_device_name(0)\n",
    "device"
   ]
  },
  {
   "cell_type": "code",
   "execution_count": 100,
   "metadata": {},
   "outputs": [
    {
     "data": {
      "text/plain": [
       "False"
      ]
     },
     "execution_count": 100,
     "metadata": {},
     "output_type": "execute_result"
    }
   ],
   "source": [
    "gpu"
   ]
  },
  {
   "cell_type": "code",
   "execution_count": 70,
   "metadata": {},
   "outputs": [],
   "source": [
    "def loadcorpus(targetdir,endpoint=False):\n",
    "    break_flag = False\n",
    "    texts = pd.DataFrame()\n",
    "    for file1 in os.listdir(targetdir):\n",
    "        file1name = os.fsdecode(file1)\n",
    "        if file1name.startswith('text'):\n",
    "            zfile = zipfile.ZipFile(targetdir + '/' + file1)\n",
    "            for file2 in zfile.namelist():\n",
    "                file2name = os.fsdecode(file2)\n",
    "                #optional endpoint if you only want a portion of the NOW corpus\n",
    "                if file2name == endpoint:\n",
    "                    break_flag = True\n",
    "                    break\n",
    "                print(file2name)\n",
    "                data = pd.read_fwf(zfile.open(f'{file2name}'),colspecs=[(2,10),(11,None)],encoding='utf-8',names=['id','body'])\n",
    "                texts = texts.append(data,ignore_index=True)\n",
    "        if break_flag == True:\n",
    "            break\n",
    "    return texts"
   ]
  },
  {
   "cell_type": "code",
   "execution_count": 71,
   "metadata": {},
   "outputs": [
    {
     "name": "stdout",
     "output_type": "stream",
     "text": [
      "21-05-01.txt\n",
      "21-05-02.txt\n",
      "21-05-03.txt\n",
      "21-05-04.txt\n",
      "21-05-05.txt\n",
      "21-05-06.txt\n",
      "21-05-07.txt\n",
      "21-05-08.txt\n",
      "21-05-09.txt\n",
      "21-05-10.txt\n",
      "21-05-11.txt\n",
      "21-05-12.txt\n",
      "21-05-13.txt\n",
      "21-05-14.txt\n",
      "21-05-15.txt\n",
      "21-05-16.txt\n",
      "21-05-17.txt\n",
      "21-05-18.txt\n",
      "21-05-19.txt\n",
      "21-05-20.txt\n",
      "21-05-21.txt\n",
      "21-05-22.txt\n",
      "21-05-23.txt\n",
      "21-05-24.txt\n",
      "21-05-25.txt\n",
      "21-05-26.txt\n",
      "21-05-27.txt\n",
      "21-05-28.txt\n",
      "21-05-29.txt\n",
      "21-05-30.txt\n"
     ]
    }
   ],
   "source": [
    "texts = loadcorpus('/Users/gabrielnicholson/Desktop/corona/corona-21-05', '21-05-31.txt')"
   ]
  },
  {
   "cell_type": "code",
   "execution_count": 72,
   "metadata": {},
   "outputs": [],
   "source": [
    "def loadmetadata(targetdir):\n",
    "    metadata = pd.DataFrame()\n",
    "    for file1 in os.listdir(targetdir):\n",
    "        file1name = os.fsdecode(file1)\n",
    "        print(file1name)\n",
    "        if file1name.startswith('now_sources') or file1name.startswith('sources'):\n",
    "            zfile = zipfile.ZipFile(targetdir + '/' + file1)\n",
    "            for file2 in zfile.namelist():\n",
    "                file2name = os.fsdecode(file2)\n",
    "                print(file2name)\n",
    "                data = pd.read_csv(zfile.open(f'{file2name}'),sep='\\t',error_bad_lines=False,engine='python',encoding='latin1',names=['id','length','date','country','publisher','url','snippet'])\n",
    "                metadata = metadata.append(data,ignore_index=True)\n",
    "    return metadata"
   ]
  },
  {
   "cell_type": "code",
   "execution_count": 73,
   "metadata": {},
   "outputs": [
    {
     "name": "stdout",
     "output_type": "stream",
     "text": [
      "wlp-21-05.zip\n",
      "db-21-05.zip\n",
      ".DS_Store\n",
      "lexicon-21-05.zip\n",
      "sources-21-05.zip\n",
      "sources-21-05.txt\n"
     ]
    },
    {
     "name": "stderr",
     "output_type": "stream",
     "text": [
      "/var/folders/7b/prbmv40d5wg4ymrn9dr3c76c0000gn/T/ipykernel_16024/100116205.py:1: FutureWarning: The error_bad_lines argument has been deprecated and will be removed in a future version.\n",
      "\n",
      "\n",
      "  metadata = loadmetadata('/Users/gabrielnicholson/Desktop/corona/corona-21-05')\n",
      "Skipping line 1173: '\t' expected after '\"'\n",
      "Skipping line 2959: '\t' expected after '\"'\n",
      "Skipping line 5139: '\t' expected after '\"'\n",
      "Skipping line 5513: '\t' expected after '\"'\n",
      "Skipping line 5938: '\t' expected after '\"'\n",
      "Skipping line 7861: '\t' expected after '\"'\n",
      "Skipping line 8003: '\t' expected after '\"'\n",
      "Skipping line 8116: '\t' expected after '\"'\n",
      "Skipping line 10606: '\t' expected after '\"'\n",
      "Skipping line 10664: '\t' expected after '\"'\n",
      "Skipping line 13537: '\t' expected after '\"'\n",
      "Skipping line 13620: '\t' expected after '\"'\n",
      "Skipping line 14038: '\t' expected after '\"'\n",
      "Skipping line 16123: '\t' expected after '\"'\n",
      "Skipping line 16343: '\t' expected after '\"'\n",
      "Skipping line 21661: '\t' expected after '\"'\n",
      "Skipping line 24139: '\t' expected after '\"'\n",
      "Skipping line 26529: '\t' expected after '\"'\n",
      "Skipping line 27053: '\t' expected after '\"'\n",
      "Skipping line 28387: '\t' expected after '\"'\n",
      "Skipping line 28493: '\t' expected after '\"'\n",
      "Skipping line 30012: '\t' expected after '\"'\n",
      "Skipping line 30753: '\t' expected after '\"'\n",
      "Skipping line 32498: '\t' expected after '\"'\n",
      "Skipping line 32823: '\t' expected after '\"'\n",
      "Skipping line 35008: '\t' expected after '\"'\n",
      "Skipping line 35511: '\t' expected after '\"'\n",
      "Skipping line 35530: '\t' expected after '\"'\n",
      "Skipping line 35975: '\t' expected after '\"'\n",
      "Skipping line 37919: '\t' expected after '\"'\n",
      "Skipping line 38039: '\t' expected after '\"'\n",
      "Skipping line 39016: '\t' expected after '\"'\n",
      "Skipping line 39702: '\t' expected after '\"'\n",
      "Skipping line 40963: '\t' expected after '\"'\n",
      "Skipping line 41327: '\t' expected after '\"'\n",
      "Skipping line 41490: '\t' expected after '\"'\n",
      "Skipping line 42657: '\t' expected after '\"'\n",
      "Skipping line 42925: '\t' expected after '\"'\n",
      "Skipping line 43022: '\t' expected after '\"'\n",
      "Skipping line 43737: '\t' expected after '\"'\n",
      "Skipping line 43910: '\t' expected after '\"'\n",
      "Skipping line 43924: '\t' expected after '\"'\n",
      "Skipping line 44257: '\t' expected after '\"'\n",
      "Skipping line 44283: '\t' expected after '\"'\n",
      "Skipping line 44656: '\t' expected after '\"'\n",
      "Skipping line 44687: '\t' expected after '\"'\n",
      "Skipping line 44886: '\t' expected after '\"'\n",
      "Skipping line 45151: '\t' expected after '\"'\n",
      "Skipping line 45543: '\t' expected after '\"'\n",
      "Skipping line 45859: '\t' expected after '\"'\n",
      "Skipping line 46558: field larger than field limit (131072)\n",
      "Skipping line 46805: '\t' expected after '\"'\n",
      "Skipping line 47404: '\t' expected after '\"'\n",
      "Skipping line 47799: '\t' expected after '\"'\n",
      "Skipping line 48051: '\t' expected after '\"'\n",
      "Skipping line 48562: '\t' expected after '\"'\n",
      "Skipping line 48700: field larger than field limit (131072)\n",
      "Skipping line 49701: '\t' expected after '\"'\n"
     ]
    },
    {
     "name": "stdout",
     "output_type": "stream",
     "text": [
      "text-21-05.zip\n"
     ]
    },
    {
     "name": "stderr",
     "output_type": "stream",
     "text": [
      "Skipping line 50551: '\t' expected after '\"'\n",
      "Skipping line 51410: '\t' expected after '\"'\n",
      "Skipping line 51953: '\t' expected after '\"'\n",
      "Skipping line 51956: '\t' expected after '\"'\n",
      "Skipping line 52159: '\t' expected after '\"'\n",
      "Skipping line 52195: '\t' expected after '\"'\n",
      "Skipping line 52236: '\t' expected after '\"'\n",
      "Skipping line 52295: '\t' expected after '\"'\n",
      "Skipping line 52787: '\t' expected after '\"'\n",
      "Skipping line 52858: '\t' expected after '\"'\n",
      "Skipping line 53078: '\t' expected after '\"'\n",
      "Skipping line 53330: '\t' expected after '\"'\n",
      "Skipping line 55864: '\t' expected after '\"'\n",
      "Skipping line 56975: '\t' expected after '\"'\n",
      "Skipping line 57048: '\t' expected after '\"'\n",
      "Skipping line 58013: '\t' expected after '\"'\n",
      "Skipping line 58079: '\t' expected after '\"'\n",
      "Skipping line 58341: '\t' expected after '\"'\n",
      "Skipping line 58429: '\t' expected after '\"'\n",
      "Skipping line 58467: '\t' expected after '\"'\n",
      "Skipping line 59225: '\t' expected after '\"'\n",
      "Skipping line 59429: '\t' expected after '\"'\n"
     ]
    }
   ],
   "source": [
    "metadata = loadmetadata('/Users/gabrielnicholson/Desktop/corona/corona-21-05')"
   ]
  },
  {
   "cell_type": "code",
   "execution_count": 74,
   "metadata": {
    "scrolled": true
   },
   "outputs": [
    {
     "data": {
      "text/html": [
       "<div>\n",
       "<style scoped>\n",
       "    .dataframe tbody tr th:only-of-type {\n",
       "        vertical-align: middle;\n",
       "    }\n",
       "\n",
       "    .dataframe tbody tr th {\n",
       "        vertical-align: top;\n",
       "    }\n",
       "\n",
       "    .dataframe thead th {\n",
       "        text-align: right;\n",
       "    }\n",
       "</style>\n",
       "<table border=\"1\" class=\"dataframe\">\n",
       "  <thead>\n",
       "    <tr style=\"text-align: right;\">\n",
       "      <th></th>\n",
       "      <th>id</th>\n",
       "      <th>length</th>\n",
       "      <th>date</th>\n",
       "      <th>country</th>\n",
       "      <th>publisher</th>\n",
       "      <th>url</th>\n",
       "      <th>snippet</th>\n",
       "    </tr>\n",
       "  </thead>\n",
       "  <tbody>\n",
       "    <tr>\n",
       "      <th>0</th>\n",
       "      <td>42964596</td>\n",
       "      <td>1242</td>\n",
       "      <td>21-05-01</td>\n",
       "      <td>US</td>\n",
       "      <td>lcsun-news.com</td>\n",
       "      <td>https://www.lcsun-news.com/story/news/educatio...</td>\n",
       "      <td>Prom during the pandemic: Here's what to expec...</td>\n",
       "    </tr>\n",
       "    <tr>\n",
       "      <th>1</th>\n",
       "      <td>42964604</td>\n",
       "      <td>1992</td>\n",
       "      <td>21-05-01</td>\n",
       "      <td>US</td>\n",
       "      <td>wmur.com</td>\n",
       "      <td>https://www.wmur.com/article/nh-primary-source...</td>\n",
       "      <td>NH Primary Source: Trump voters still not conv...</td>\n",
       "    </tr>\n",
       "    <tr>\n",
       "      <th>2</th>\n",
       "      <td>42964681</td>\n",
       "      <td>479</td>\n",
       "      <td>21-05-01</td>\n",
       "      <td>US</td>\n",
       "      <td>khou.com</td>\n",
       "      <td>https://www.khou.com/article/news/health/arkan...</td>\n",
       "      <td>Arkansas pediatricians reminds you vaccines ar...</td>\n",
       "    </tr>\n",
       "    <tr>\n",
       "      <th>3</th>\n",
       "      <td>42964682</td>\n",
       "      <td>319</td>\n",
       "      <td>21-05-01</td>\n",
       "      <td>US</td>\n",
       "      <td>khou.com</td>\n",
       "      <td>https://www.khou.com/article/news/health/coron...</td>\n",
       "      <td>ISU chemists developing at-home COVID-19 test ...</td>\n",
       "    </tr>\n",
       "    <tr>\n",
       "      <th>4</th>\n",
       "      <td>42964683</td>\n",
       "      <td>509</td>\n",
       "      <td>21-05-01</td>\n",
       "      <td>US</td>\n",
       "      <td>khou.com</td>\n",
       "      <td>https://www.khou.com/article/news/local/turloc...</td>\n",
       "      <td>City of Turlock relocates 50 people at homeles...</td>\n",
       "    </tr>\n",
       "    <tr>\n",
       "      <th>...</th>\n",
       "      <td>...</td>\n",
       "      <td>...</td>\n",
       "      <td>...</td>\n",
       "      <td>...</td>\n",
       "      <td>...</td>\n",
       "      <td>...</td>\n",
       "      <td>...</td>\n",
       "    </tr>\n",
       "    <tr>\n",
       "      <th>59561</th>\n",
       "      <td>87325335</td>\n",
       "      <td>758</td>\n",
       "      <td>21-05-31</td>\n",
       "      <td>??</td>\n",
       "      <td>Europa</td>\n",
       "      <td>https://www.consilium.europa.eu/en/press/press...</td>\n",
       "      <td>Green light from all member states for EU reco...</td>\n",
       "    </tr>\n",
       "    <tr>\n",
       "      <th>59562</th>\n",
       "      <td>87324952</td>\n",
       "      <td>570</td>\n",
       "      <td>21-05-31</td>\n",
       "      <td>??</td>\n",
       "      <td>Shropshire Star</td>\n",
       "      <td>https://www.shropshirestar.com/news/politics/2...</td>\n",
       "      <td>Shropshire Council to have first female leader...</td>\n",
       "    </tr>\n",
       "    <tr>\n",
       "      <th>59563</th>\n",
       "      <td>52783286</td>\n",
       "      <td>5819</td>\n",
       "      <td>21-05-31</td>\n",
       "      <td>??</td>\n",
       "      <td>christianforums.com</td>\n",
       "      <td>https://www.christianforums.com/threads/litera...</td>\n",
       "      <td>Literal Mark? | Christian Forums</td>\n",
       "    </tr>\n",
       "    <tr>\n",
       "      <th>59564</th>\n",
       "      <td>52782829</td>\n",
       "      <td>2985</td>\n",
       "      <td>21-05-31</td>\n",
       "      <td>??</td>\n",
       "      <td>christianforums.com</td>\n",
       "      <td>https://www.christianforums.com/threads/the-my...</td>\n",
       "      <td>The Mystery of the Church Age | Page 6 | Chris...</td>\n",
       "    </tr>\n",
       "    <tr>\n",
       "      <th>59565</th>\n",
       "      <td>52782809</td>\n",
       "      <td>3898</td>\n",
       "      <td>21-05-31</td>\n",
       "      <td>??</td>\n",
       "      <td>christianforums.com</td>\n",
       "      <td>https://www.christianforums.com/threads/sexual...</td>\n",
       "      <td>Sexual immorality | Christian Forums</td>\n",
       "    </tr>\n",
       "  </tbody>\n",
       "</table>\n",
       "<p>59566 rows × 7 columns</p>\n",
       "</div>"
      ],
      "text/plain": [
       "             id  length      date country            publisher  \\\n",
       "0      42964596    1242  21-05-01      US       lcsun-news.com   \n",
       "1      42964604    1992  21-05-01      US             wmur.com   \n",
       "2      42964681     479  21-05-01      US             khou.com   \n",
       "3      42964682     319  21-05-01      US             khou.com   \n",
       "4      42964683     509  21-05-01      US             khou.com   \n",
       "...         ...     ...       ...     ...                  ...   \n",
       "59561  87325335     758  21-05-31      ??               Europa   \n",
       "59562  87324952     570  21-05-31      ??      Shropshire Star   \n",
       "59563  52783286    5819  21-05-31      ??  christianforums.com   \n",
       "59564  52782829    2985  21-05-31      ??  christianforums.com   \n",
       "59565  52782809    3898  21-05-31      ??  christianforums.com   \n",
       "\n",
       "                                                     url  \\\n",
       "0      https://www.lcsun-news.com/story/news/educatio...   \n",
       "1      https://www.wmur.com/article/nh-primary-source...   \n",
       "2      https://www.khou.com/article/news/health/arkan...   \n",
       "3      https://www.khou.com/article/news/health/coron...   \n",
       "4      https://www.khou.com/article/news/local/turloc...   \n",
       "...                                                  ...   \n",
       "59561  https://www.consilium.europa.eu/en/press/press...   \n",
       "59562  https://www.shropshirestar.com/news/politics/2...   \n",
       "59563  https://www.christianforums.com/threads/litera...   \n",
       "59564  https://www.christianforums.com/threads/the-my...   \n",
       "59565  https://www.christianforums.com/threads/sexual...   \n",
       "\n",
       "                                                 snippet  \n",
       "0      Prom during the pandemic: Here's what to expec...  \n",
       "1      NH Primary Source: Trump voters still not conv...  \n",
       "2      Arkansas pediatricians reminds you vaccines ar...  \n",
       "3      ISU chemists developing at-home COVID-19 test ...  \n",
       "4      City of Turlock relocates 50 people at homeles...  \n",
       "...                                                  ...  \n",
       "59561  Green light from all member states for EU reco...  \n",
       "59562  Shropshire Council to have first female leader...  \n",
       "59563                   Literal Mark? | Christian Forums  \n",
       "59564  The Mystery of the Church Age | Page 6 | Chris...  \n",
       "59565               Sexual immorality | Christian Forums  \n",
       "\n",
       "[59566 rows x 7 columns]"
      ]
     },
     "execution_count": 74,
     "metadata": {},
     "output_type": "execute_result"
    }
   ],
   "source": [
    "metadata"
   ]
  },
  {
   "cell_type": "code",
   "execution_count": 75,
   "metadata": {},
   "outputs": [],
   "source": [
    "texts = texts[1:]"
   ]
  },
  {
   "cell_type": "code",
   "execution_count": 76,
   "metadata": {},
   "outputs": [
    {
     "data": {
      "text/plain": [
       "str"
      ]
     },
     "execution_count": 76,
     "metadata": {},
     "output_type": "execute_result"
    }
   ],
   "source": [
    "h = 'hi'\n",
    "type(h)"
   ]
  },
  {
   "cell_type": "code",
   "execution_count": 77,
   "metadata": {},
   "outputs": [],
   "source": [
    "def remove_weird(x):\n",
    "    try:\n",
    "        return int(x)\n",
    "    except:\n",
    "        return 'drop'\n",
    "        "
   ]
  },
  {
   "cell_type": "code",
   "execution_count": 78,
   "metadata": {},
   "outputs": [],
   "source": [
    "texts = texts[texts['id'].apply(lambda x: remove_weird(x)) != 'drop']"
   ]
  },
  {
   "cell_type": "code",
   "execution_count": 79,
   "metadata": {},
   "outputs": [],
   "source": [
    "texts['id'] = texts['id'].apply(lambda x: int(x))"
   ]
  },
  {
   "cell_type": "code",
   "execution_count": 80,
   "metadata": {},
   "outputs": [],
   "source": [
    "merged = pd.merge(metadata,texts,on='id',how='inner')"
   ]
  },
  {
   "cell_type": "code",
   "execution_count": 82,
   "metadata": {},
   "outputs": [],
   "source": [
    "def reformat(x):\n",
    "    return re.sub(r'(<p>|@ )','', x)"
   ]
  },
  {
   "cell_type": "code",
   "execution_count": 83,
   "metadata": {},
   "outputs": [],
   "source": [
    "merged['body'] = merged['body'].apply(lambda x: str(x))\n",
    "merged['body'] = merged['body'].apply(reformat)"
   ]
  },
  {
   "cell_type": "code",
   "execution_count": 84,
   "metadata": {},
   "outputs": [],
   "source": [
    "merged.to_csv('corona-21-05.csv')"
   ]
  }
 ],
 "metadata": {
  "kernelspec": {
   "display_name": "Python 3 (ipykernel)",
   "language": "python",
   "name": "python3"
  },
  "language_info": {
   "codemirror_mode": {
    "name": "ipython",
    "version": 3
   },
   "file_extension": ".py",
   "mimetype": "text/x-python",
   "name": "python",
   "nbconvert_exporter": "python",
   "pygments_lexer": "ipython3",
   "version": "3.9.7"
  }
 },
 "nbformat": 4,
 "nbformat_minor": 4
}
