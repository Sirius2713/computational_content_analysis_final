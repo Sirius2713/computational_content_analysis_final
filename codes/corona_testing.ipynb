{
 "cells": [
  {
   "cell_type": "code",
   "execution_count": 1,
   "metadata": {},
   "outputs": [
    {
     "name": "stdout",
     "output_type": "stream",
     "text": [
      "Collecting package metadata (current_repodata.json): done\n",
      "Solving environment: done\n",
      "\n",
      "# All requested packages already installed.\n",
      "\n",
      "\n",
      "Note: you may need to restart the kernel to use updated packages.\n"
     ]
    }
   ],
   "source": [
    "# conda install -c conda-forge openblas"
   ]
  },
  {
   "cell_type": "code",
   "execution_count": 1,
   "metadata": {},
   "outputs": [],
   "source": [
    "#Special module written for this class\n",
    "#This provides access to data and to helper functions from previous weeks\n",
    "\n",
    "#All these packages need to be installed from pip\n",
    "import requests #for http requests\n",
    "import pandas as pd #gives us DataFrames\n",
    "import matplotlib.pyplot as plt #For graphics\n",
    "import numpy as np #For divergences/distances\n",
    "import scipy #For divergences/distances\n",
    "import seaborn as sns #makes our plots look nicer\n",
    "import sklearn.manifold #For a manifold plot\n",
    "import json #For API responses\n",
    "import urllib.parse #For joining urls\n",
    "\n",
    "# comp-linguistics\n",
    "import spacy\n",
    "\n",
    "#Displays the graphs\n",
    "import graphviz #You also need to install the command line graphviz\n",
    "\n",
    "#These are from the standard library\n",
    "import os.path\n",
    "import zipfile\n",
    "import subprocess\n",
    "import io\n",
    "import tempfile\n",
    "\n",
    "from transformers import pipeline"
   ]
  },
  {
   "cell_type": "code",
   "execution_count": 10,
   "metadata": {},
   "outputs": [
    {
     "name": "stderr",
     "output_type": "stream",
     "text": [
      "No model was supplied, defaulted to distilbert-base-uncased-finetuned-sst-2-english (https://huggingface.co/distilbert-base-uncased-finetuned-sst-2-english)\n"
     ]
    }
   ],
   "source": [
    "# nlp = pipeline('sentiment-analysis')"
   ]
  },
  {
   "cell_type": "code",
   "execution_count": 3,
   "metadata": {},
   "outputs": [
    {
     "name": "stdout",
     "output_type": "stream",
     "text": [
      "21-03-01.txt           corona-21-03.tar       corona.code-workspace\n",
      "21-05-01.txt           \u001b[34mcorona-21-05\u001b[m\u001b[m/          corona_testing.ipynb\n",
      "Corona_to_csv.ipynb    corona-21-05.csv       smaller_data.csv\n",
      "Corona_to_csv.py       corona-21-05.tar       \u001b[34mtext-21-05\u001b[m\u001b[m/\n",
      "all_corona_data.csv    corona-21-08.tar       \u001b[34mwlp-21-05\u001b[m\u001b[m/\n",
      "\u001b[34mcorona-21-03\u001b[m\u001b[m/          corona-21-09.tar\n"
     ]
    }
   ],
   "source": []
  },
  {
   "cell_type": "code",
   "execution_count": 5,
   "metadata": {},
   "outputs": [],
   "source": [
    "df = pd.read_csv('all_corona_data.csv')\n",
    "# df = pd.read_csv('/Users/gabrielnicholson/Desktop/corona/corona-21-05.csv')\n",
    "# df = pd.read_csv('smaller_data.csv')"
   ]
  },
  {
   "cell_type": "code",
   "execution_count": 4,
   "metadata": {},
   "outputs": [
    {
     "ename": "NameError",
     "evalue": "name 'df' is not defined",
     "output_type": "error",
     "traceback": [
      "\u001b[0;31m---------------------------------------------------------------------------\u001b[0m",
      "\u001b[0;31mNameError\u001b[0m                                 Traceback (most recent call last)",
      "\u001b[1;32m/Users/gabrielnicholson/Desktop/corona/corona_testing.ipynb Cell 6'\u001b[0m in \u001b[0;36m<cell line: 1>\u001b[0;34m()\u001b[0m\n\u001b[0;32m----> <a href='vscode-notebook-cell:/Users/gabrielnicholson/Desktop/corona/corona_testing.ipynb#ch0000005?line=0'>1</a>\u001b[0m df\u001b[39m.\u001b[39mhead()\n",
      "\u001b[0;31mNameError\u001b[0m: name 'df' is not defined"
     ]
    }
   ],
   "source": [
    "df.head()"
   ]
  },
  {
   "cell_type": "code",
   "execution_count": 32,
   "metadata": {},
   "outputs": [],
   "source": [
    "nlp = spacy.load(\"en_core_web_sm\")"
   ]
  },
  {
   "cell_type": "code",
   "execution_count": 24,
   "metadata": {},
   "outputs": [],
   "source": [
    "df.dropna(axis=0, inplace=True)"
   ]
  },
  {
   "cell_type": "code",
   "execution_count": 25,
   "metadata": {},
   "outputs": [],
   "source": [
    "df['body_split'] = df['body'].apply(str.split)"
   ]
  },
  {
   "cell_type": "code",
   "execution_count": 28,
   "metadata": {},
   "outputs": [],
   "source": [
    "def clean_raw_text(text):\n",
    "    clean_texts = text.replace(\" \\'m\", \"'m\").replace(\" \\'ll\", \"'ll\").replace(\" \\'re\", \"'re\").replace(\" \\'s\", \"'s\").replace(\" \\'re\", \"'re\").replace(\" n\\'t\", \"n't\").replace(\" \\'ve\", \"'ve\").replace(\" /'d\", \"'d\").replace(\"<h>\", \"\").replace(' Gov ', '')\n",
    "    return clean_texts"
   ]
  },
  {
   "cell_type": "code",
   "execution_count": 29,
   "metadata": {},
   "outputs": [],
   "source": [
    "df['body'] = df['body'].apply(lambda x : clean_raw_text(x))"
   ]
  },
  {
   "cell_type": "code",
   "execution_count": 30,
   "metadata": {},
   "outputs": [],
   "source": [
    "def word_tokenize(word_list):\n",
    "    tokenized = []\n",
    "    # pass word list through language model.\n",
    "    doc = nlp(word_list)\n",
    "    for token in doc:\n",
    "        if not token.is_punct and len(token.text.strip()) > 0:\n",
    "            tokenized.append(token.text)\n",
    "    return tokenized"
   ]
  },
  {
   "cell_type": "code",
   "execution_count": 35,
   "metadata": {},
   "outputs": [
    {
     "name": "stderr",
     "output_type": "stream",
     "text": [
      "No model was supplied, defaulted to distilbert-base-uncased-finetuned-sst-2-english (https://huggingface.co/distilbert-base-uncased-finetuned-sst-2-english)\n"
     ]
    },
    {
     "name": "stdout",
     "output_type": "stream",
     "text": [
      "label: POSITIVE, with score: 0.8421\n",
      "label: POSITIVE, with score: 0.9999\n"
     ]
    }
   ],
   "source": [
    "nlp = pipeline(\"sentiment-analysis\", )\n",
    "result = nlp(\"We note with concern the proposal by some members of the National Assembly to remove five magistrates of El Salvador's Western Hemisphere Affairs\")[0]\n",
    "print(f\"label: {result['label']}, with score: {round(result['score'], 4)}\")\n",
    "result = nlp(\"I love you\")[0]\n",
    "print(f\"label: {result['label']}, with score: {round(result['score'], 4)}\")"
   ]
  },
  {
   "cell_type": "code",
   "execution_count": 36,
   "metadata": {},
   "outputs": [],
   "source": [
    "def remove_empty(row):\n",
    "    sentences = []\n",
    "    for sentence in row:\n",
    "        if len(sentences) > 500:\n",
    "            return sentences\n",
    "        if len(sentence) > 2:\n",
    "            sentences.append(sentence)\n",
    "    return sentences"
   ]
  },
  {
   "cell_type": "code",
   "execution_count": 12,
   "metadata": {},
   "outputs": [],
   "source": [
    "df['sentences'] = df['body'].apply(lambda x: x.split('.'))\n",
    "df['sentences'] = df['sentences'].apply(remove_empty)"
   ]
  },
  {
   "cell_type": "code",
   "execution_count": 39,
   "metadata": {},
   "outputs": [],
   "source": [
    "df['sentiment_score'] = df['sentences'].apply(lambda x: nlp(x[:1]))"
   ]
  },
  {
   "cell_type": "code",
   "execution_count": 40,
   "metadata": {},
   "outputs": [
    {
     "data": {
      "text/plain": [
       "0       [{'label': 'POSITIVE', 'score': 0.995067834854...\n",
       "1       [{'label': 'NEGATIVE', 'score': 0.958315372467...\n",
       "2       [{'label': 'NEGATIVE', 'score': 0.998769581317...\n",
       "3       [{'label': 'POSITIVE', 'score': 0.624932587146...\n",
       "4       [{'label': 'POSITIVE', 'score': 0.990642249584...\n",
       "                              ...                        \n",
       "1225    [{'label': 'NEGATIVE', 'score': 0.998137593269...\n",
       "1226    [{'label': 'NEGATIVE', 'score': 0.550629079341...\n",
       "1227    [{'label': 'POSITIVE', 'score': 0.962613761425...\n",
       "1228    [{'label': 'NEGATIVE', 'score': 0.999480426311...\n",
       "1229    [{'label': 'NEGATIVE', 'score': 0.949446082115...\n",
       "Name: sentiment_score, Length: 1230, dtype: object"
      ]
     },
     "execution_count": 40,
     "metadata": {},
     "output_type": "execute_result"
    }
   ],
   "source": [
    "df.sentiment_score"
   ]
  },
  {
   "cell_type": "code",
   "execution_count": 21,
   "metadata": {},
   "outputs": [
    {
     "data": {
      "text/plain": [
       "0     [{'label': 'NEGATIVE', 'score': 0.873109281063...\n",
       "1     [{'label': 'NEGATIVE', 'score': 0.971332013607...\n",
       "2     [{'label': 'NEGATIVE', 'score': 0.966135561466...\n",
       "3     [{'label': 'POSITIVE', 'score': 0.956532120704...\n",
       "4     [{'label': 'POSITIVE', 'score': 0.997475683689...\n",
       "                            ...                        \n",
       "95    [{'label': 'POSITIVE', 'score': 0.997050404548...\n",
       "96    [{'label': 'POSITIVE', 'score': 0.989696264266...\n",
       "97    [{'label': 'NEGATIVE', 'score': 0.960835397243...\n",
       "98    [{'label': 'NEGATIVE', 'score': 0.953945457935...\n",
       "99    [{'label': 'NEGATIVE', 'score': 0.999012708663...\n",
       "Name: snippet, Length: 100, dtype: object"
      ]
     },
     "execution_count": 21,
     "metadata": {},
     "output_type": "execute_result"
    }
   ],
   "source": [
    "df['snippet'][:100].apply(nlp)"
   ]
  },
  {
   "cell_type": "code",
   "execution_count": 47,
   "metadata": {},
   "outputs": [],
   "source": [
    "def calc_sentiment(row):\n",
    "    neg = 0\n",
    "    pos = 0\n",
    "    for sentiment in row:\n",
    "        if sentiment['score'] > 0.80:\n",
    "            if sentiment['label'] == 'NEGATIVE':\n",
    "                neg += 1\n",
    "            else: \n",
    "                pos += 1 \n",
    "        \n",
    "    return neg/(neg+pos + 1)"
   ]
  },
  {
   "cell_type": "code",
   "execution_count": 48,
   "metadata": {},
   "outputs": [],
   "source": [
    "df['neg_score'] = df.sentiment_score.apply(calc_sentiment)"
   ]
  },
  {
   "cell_type": "code",
   "execution_count": 49,
   "metadata": {},
   "outputs": [
    {
     "data": {
      "text/plain": [
       "0       0.0\n",
       "1       0.5\n",
       "2       0.5\n",
       "3       0.0\n",
       "4       0.0\n",
       "       ... \n",
       "1225    0.5\n",
       "1226    0.0\n",
       "1227    0.0\n",
       "1228    0.5\n",
       "1229    0.5\n",
       "Name: neg_score, Length: 1230, dtype: float64"
      ]
     },
     "execution_count": 49,
     "metadata": {},
     "output_type": "execute_result"
    }
   ],
   "source": [
    "df.neg_score"
   ]
  },
  {
   "cell_type": "code",
   "execution_count": null,
   "metadata": {},
   "outputs": [],
   "source": [
    "# Creating full sentences and truncating to first 9 sentences in each article.\n",
    "\n",
    "def remove_empty_sentences(row):\n",
    "    sentences = []\n",
    "    for sentence in row:\n",
    "        if (len(sentence)) < 500 and len(sentence) > 8:\n",
    "            sentences.append(sentence)\n",
    "    return sentences\n",
    "\n",
    "df['sentences'] = df['body'].apply(lambda x: x.split('.'))\n",
    "df['sentences'] = df['sentences'].apply(lambda x: remove_empty_sentences(x))\n",
    "df['trunc_sentence'] = df['sentences'].apply(lambda x: x[1:9])\n",
    "\n",
    "country_df = df[df['country'].apply(lambda x: x in ['US', 'IN', 'CA'])]\n",
    "\n",
    "from transformers import pipeline\n",
    "nlp = pipeline(\"sentiment-analysis\")\n",
    "\n",
    "df['sentiment_score'] = df['trunc_sentence'].apply(lambda x: nlp(x)"
   ]
  }
 ],
 "metadata": {
  "interpreter": {
   "hash": "c6e4e9f98eb68ad3b7c296f83d20e6de614cb42e90992a65aa266555a3137d0d"
  },
  "kernelspec": {
   "display_name": "Python 3.9.10",
   "language": "python",
   "name": "python3"
  },
  "language_info": {
   "codemirror_mode": {
    "name": "ipython",
    "version": 3
   },
   "file_extension": ".py",
   "mimetype": "text/x-python",
   "name": "python",
   "nbconvert_exporter": "python",
   "pygments_lexer": "ipython3",
   "version": "3.9.10"
  },
  "orig_nbformat": 4
 },
 "nbformat": 4,
 "nbformat_minor": 2
}
