{
 "cells": [
  {
   "cell_type": "code",
   "execution_count": 1,
   "metadata": {},
   "outputs": [],
   "source": [
    "import pandas as pd\n",
    "import zipfile\n",
    "import re"
   ]
  },
  {
   "cell_type": "code",
   "execution_count": 2,
   "metadata": {},
   "outputs": [],
   "source": [
    "import os"
   ]
  },
  {
   "cell_type": "code",
   "execution_count": 3,
   "metadata": {},
   "outputs": [],
   "source": [
    "def loadcorpus(targetdir,endpoint=False):\n",
    "    break_flag = False\n",
    "    texts = pd.DataFrame()\n",
    "    for file1 in os.listdir(targetdir):\n",
    "        file1name = os.fsdecode(file1)\n",
    "        if file1name.startswith('text'):\n",
    "            zfile = zipfile.ZipFile(targetdir + '/' + file1)\n",
    "            for file2 in zfile.namelist():\n",
    "                file2name = os.fsdecode(file2)\n",
    "                #optional endpoint if you only want a portion of the NOW corpus\n",
    "                if file2name == endpoint:\n",
    "                    break_flag = True\n",
    "                    break\n",
    "                print(file2name)\n",
    "                data = pd.read_fwf(zfile.open(f'{file2name}'),colspecs=[(2,10),(11,None)],encoding='utf-8',names=['id','body'])\n",
    "                texts = texts.append(data,ignore_index=True)\n",
    "        if break_flag == True:\n",
    "            break\n",
    "    return texts"
   ]
  },
  {
   "cell_type": "code",
   "execution_count": 4,
   "metadata": {},
   "outputs": [
    {
     "name": "stdout",
     "output_type": "stream",
     "text": [
      "21-01-01.txt\n",
      "21-01-02.txt\n",
      "21-01-03.txt\n",
      "21-01-04.txt\n",
      "21-01-05.txt\n",
      "21-01-06.txt\n",
      "21-01-07.txt\n",
      "21-01-08.txt\n",
      "21-01-09.txt\n",
      "21-01-10.txt\n",
      "21-01-11.txt\n",
      "21-01-12.txt\n",
      "21-01-13.txt\n",
      "21-01-14.txt\n",
      "21-01-15.txt\n",
      "21-01-16.txt\n",
      "21-01-17.txt\n",
      "21-01-18.txt\n",
      "21-01-19.txt\n",
      "21-01-20.txt\n",
      "21-01-21.txt\n",
      "21-01-22.txt\n",
      "21-01-23.txt\n",
      "21-01-24.txt\n",
      "21-01-25.txt\n",
      "21-01-26.txt\n",
      "21-01-27.txt\n",
      "21-01-28.txt\n",
      "21-01-29.txt\n",
      "21-01-30.txt\n"
     ]
    }
   ],
   "source": [
    "texts = loadcorpus('../data/Davies corona/corona-21-01', '21-01-31.txt')"
   ]
  },
  {
   "cell_type": "code",
   "execution_count": 5,
   "metadata": {},
   "outputs": [],
   "source": [
    "def loadmetadata(targetdir):\n",
    "    metadata = pd.DataFrame()\n",
    "    for file1 in os.listdir(targetdir):\n",
    "        file1name = os.fsdecode(file1)\n",
    "        print(file1name)\n",
    "        if file1name.startswith('now_sources') or file1name.startswith('sources'):\n",
    "            zfile = zipfile.ZipFile(targetdir + '/' + file1)\n",
    "            for file2 in zfile.namelist():\n",
    "                file2name = os.fsdecode(file2)\n",
    "                print(file2name)\n",
    "                data = pd.read_csv(zfile.open(f'{file2name}'),sep='\\t',error_bad_lines=False,engine='python',encoding='latin1',names=['id','length','date','country','publisher','url','snippet'])\n",
    "                metadata = metadata.append(data,ignore_index=True)\n",
    "    return metadata"
   ]
  },
  {
   "cell_type": "code",
   "execution_count": 7,
   "metadata": {
    "scrolled": true
   },
   "outputs": [
    {
     "name": "stdout",
     "output_type": "stream",
     "text": [
      "db-21-01.zip\n",
      "lexicon-21-01.zip\n",
      "text-21-01.zip\n",
      "sources-21-01.zip\n",
      "sources-21-01.txt\n"
     ]
    },
    {
     "name": "stderr",
     "output_type": "stream",
     "text": [
      "/home/wenqian/ipykernel_2407718/2354810236.py:1: FutureWarning: The error_bad_lines argument has been deprecated and will be removed in a future version.\n",
      "\n",
      "\n",
      "  metadata = loadmetadata('../data/Davies corona/corona-21-01')\n",
      "Skipping line 23: '\t' expected after '\"'\n",
      "Skipping line 197: '\t' expected after '\"'\n",
      "Skipping line 1265: '\t' expected after '\"'\n",
      "Skipping line 1889: '\t' expected after '\"'\n",
      "Skipping line 2210: '\t' expected after '\"'\n",
      "Skipping line 2284: '\t' expected after '\"'\n",
      "Skipping line 3985: '\t' expected after '\"'\n",
      "Skipping line 3986: '\t' expected after '\"'\n",
      "Skipping line 4659: '\t' expected after '\"'\n",
      "Skipping line 4666: '\t' expected after '\"'\n",
      "Skipping line 4765: '\t' expected after '\"'\n",
      "Skipping line 5381: '\t' expected after '\"'\n",
      "Skipping line 6588: '\t' expected after '\"'\n",
      "Skipping line 10561: '\t' expected after '\"'\n",
      "Skipping line 12577: '\t' expected after '\"'\n",
      "Skipping line 14611: '\t' expected after '\"'\n",
      "Skipping line 15669: '\t' expected after '\"'\n",
      "Skipping line 19602: '\t' expected after '\"'\n",
      "Skipping line 19847: '\t' expected after '\"'\n",
      "Skipping line 22160: '\t' expected after '\"'\n",
      "Skipping line 22161: '\t' expected after '\"'\n",
      "Skipping line 23504: '\t' expected after '\"'\n",
      "Skipping line 23553: '\t' expected after '\"'\n",
      "Skipping line 25459: '\t' expected after '\"'\n",
      "Skipping line 26771: '\t' expected after '\"'\n",
      "Skipping line 27301: '\t' expected after '\"'\n",
      "Skipping line 28577: '\t' expected after '\"'\n",
      "Skipping line 28627: '\t' expected after '\"'\n",
      "Skipping line 29037: '\t' expected after '\"'\n",
      "Skipping line 29718: '\t' expected after '\"'\n",
      "Skipping line 30799: '\t' expected after '\"'\n",
      "Skipping line 30920: '\t' expected after '\"'\n",
      "Skipping line 33173: '\t' expected after '\"'\n",
      "Skipping line 33627: '\t' expected after '\"'\n",
      "Skipping line 33968: '\t' expected after '\"'\n",
      "Skipping line 35157: '\t' expected after '\"'\n",
      "Skipping line 36699: '\t' expected after '\"'\n",
      "Skipping line 37100: '\t' expected after '\"'\n",
      "Skipping line 37484: '\t' expected after '\"'\n",
      "Skipping line 37776: '\t' expected after '\"'\n",
      "Skipping line 38920: '\t' expected after '\"'\n",
      "Skipping line 39111: '\t' expected after '\"'\n",
      "Skipping line 43256: '\t' expected after '\"'\n",
      "Skipping line 43897: '\t' expected after '\"'\n",
      "Skipping line 44567: '\t' expected after '\"'\n",
      "Skipping line 45290: '\t' expected after '\"'\n",
      "Skipping line 47714: '\t' expected after '\"'\n",
      "Skipping line 47892: '\t' expected after '\"'\n",
      "Skipping line 49080: '\t' expected after '\"'\n",
      "Skipping line 49444: '\t' expected after '\"'\n",
      "Skipping line 50012: '\t' expected after '\"'\n",
      "Skipping line 50056: '\t' expected after '\"'\n",
      "Skipping line 50283: '\t' expected after '\"'\n",
      "Skipping line 50506: '\t' expected after '\"'\n",
      "Skipping line 50921: '\t' expected after '\"'\n",
      "Skipping line 51107: '\t' expected after '\"'\n",
      "Skipping line 51172: '\t' expected after '\"'\n",
      "Skipping line 51362: '\t' expected after '\"'\n",
      "Skipping line 51382: '\t' expected after '\"'\n",
      "Skipping line 51454: '\t' expected after '\"'\n",
      "Skipping line 53250: '\t' expected after '\"'\n",
      "Skipping line 53756: '\t' expected after '\"'\n",
      "Skipping line 54214: '\t' expected after '\"'\n",
      "Skipping line 55342: '\t' expected after '\"'\n",
      "Skipping line 56091: '\t' expected after '\"'\n",
      "Skipping line 56551: '\t' expected after '\"'\n",
      "Skipping line 58238: '\t' expected after '\"'\n",
      "Skipping line 58549: '\t' expected after '\"'\n",
      "Skipping line 58570: '\t' expected after '\"'\n",
      "Skipping line 59214: '\t' expected after '\"'\n",
      "Skipping line 59247: '\t' expected after '\"'\n",
      "Skipping line 59831: '\t' expected after '\"'\n",
      "Skipping line 62515: '\t' expected after '\"'\n",
      "Skipping line 62810: '\t' expected after '\"'\n",
      "Skipping line 62983: '\t' expected after '\"'\n",
      "Skipping line 62999: '\t' expected after '\"'\n",
      "Skipping line 63379: '\t' expected after '\"'\n",
      "Skipping line 63456: '\t' expected after '\"'\n",
      "Skipping line 64804: '\t' expected after '\"'\n",
      "Skipping line 65872: '\t' expected after '\"'\n"
     ]
    },
    {
     "name": "stdout",
     "output_type": "stream",
     "text": [
      "wlp-21-01.zip\n"
     ]
    },
    {
     "name": "stderr",
     "output_type": "stream",
     "text": [
      "Skipping line 68024: '\t' expected after '\"'\n",
      "Skipping line 68957: '\t' expected after '\"'\n",
      "Skipping line 68962: '\t' expected after '\"'\n",
      "Skipping line 69766: '\t' expected after '\"'\n",
      "Skipping line 69776: '\t' expected after '\"'\n",
      "Skipping line 69940: '\t' expected after '\"'\n",
      "Skipping line 70189: '\t' expected after '\"'\n",
      "Skipping line 70504: '\t' expected after '\"'\n",
      "Skipping line 71105: '\t' expected after '\"'\n",
      "Skipping line 71239: '\t' expected after '\"'\n"
     ]
    }
   ],
   "source": [
    "metadata = loadmetadata('../data/Davies corona/corona-21-01')"
   ]
  },
  {
   "cell_type": "code",
   "execution_count": 8,
   "metadata": {
    "scrolled": true
   },
   "outputs": [
    {
     "data": {
      "text/html": [
       "<div>\n",
       "<style scoped>\n",
       "    .dataframe tbody tr th:only-of-type {\n",
       "        vertical-align: middle;\n",
       "    }\n",
       "\n",
       "    .dataframe tbody tr th {\n",
       "        vertical-align: top;\n",
       "    }\n",
       "\n",
       "    .dataframe thead th {\n",
       "        text-align: right;\n",
       "    }\n",
       "</style>\n",
       "<table border=\"1\" class=\"dataframe\">\n",
       "  <thead>\n",
       "    <tr style=\"text-align: right;\">\n",
       "      <th></th>\n",
       "      <th>id</th>\n",
       "      <th>length</th>\n",
       "      <th>date</th>\n",
       "      <th>country</th>\n",
       "      <th>publisher</th>\n",
       "      <th>url</th>\n",
       "      <th>snippet</th>\n",
       "    </tr>\n",
       "  </thead>\n",
       "  <tbody>\n",
       "    <tr>\n",
       "      <th>0</th>\n",
       "      <td>42673662</td>\n",
       "      <td>2518</td>\n",
       "      <td>21-01-28</td>\n",
       "      <td>US</td>\n",
       "      <td>wmur.com</td>\n",
       "      <td>https://www.wmur.com/article/heres-why-its-har...</td>\n",
       "      <td>Here's why it's hard to make more vaccines and...</td>\n",
       "    </tr>\n",
       "    <tr>\n",
       "      <th>1</th>\n",
       "      <td>42673942</td>\n",
       "      <td>674</td>\n",
       "      <td>21-01-28</td>\n",
       "      <td>US</td>\n",
       "      <td>scpr.org</td>\n",
       "      <td>https://www.scpr.org/news/2021/01/28/96375/sou...</td>\n",
       "      <td>South Carolina Reports 1st Known U.S. Cases Of...</td>\n",
       "    </tr>\n",
       "    <tr>\n",
       "      <th>2</th>\n",
       "      <td>42673977</td>\n",
       "      <td>619</td>\n",
       "      <td>21-01-28</td>\n",
       "      <td>US</td>\n",
       "      <td>wmur.com</td>\n",
       "      <td>https://www.wmur.com/article/first-bills-for-p...</td>\n",
       "      <td>First bills for Pappas, Kuster this session fo...</td>\n",
       "    </tr>\n",
       "    <tr>\n",
       "      <th>3</th>\n",
       "      <td>42674076</td>\n",
       "      <td>561</td>\n",
       "      <td>21-01-28</td>\n",
       "      <td>US</td>\n",
       "      <td>talkingpointsmemo.com</td>\n",
       "      <td>https://api.talkingpointsmemo.com/news/2020-ce...</td>\n",
       "      <td>Census Flags Big Delays In Data Release That C...</td>\n",
       "    </tr>\n",
       "    <tr>\n",
       "      <th>4</th>\n",
       "      <td>42674084</td>\n",
       "      <td>329</td>\n",
       "      <td>21-01-28</td>\n",
       "      <td>US</td>\n",
       "      <td>whnt.com</td>\n",
       "      <td>https://whnt.com/news/coronavirus/albertville-...</td>\n",
       "      <td>Albertville senior living facility staff, resi...</td>\n",
       "    </tr>\n",
       "    <tr>\n",
       "      <th>...</th>\n",
       "      <td>...</td>\n",
       "      <td>...</td>\n",
       "      <td>...</td>\n",
       "      <td>...</td>\n",
       "      <td>...</td>\n",
       "      <td>...</td>\n",
       "      <td>...</td>\n",
       "    </tr>\n",
       "    <tr>\n",
       "      <th>72807</th>\n",
       "      <td>86685577</td>\n",
       "      <td>841</td>\n",
       "      <td>21-01-31</td>\n",
       "      <td>??</td>\n",
       "      <td>Express &amp; Star</td>\n",
       "      <td>https://www.expressandstar.com/news/uk-news/20...</td>\n",
       "      <td>Coronavirus vaccines to be offered to over-70s...</td>\n",
       "    </tr>\n",
       "    <tr>\n",
       "      <th>72808</th>\n",
       "      <td>86685578</td>\n",
       "      <td>262</td>\n",
       "      <td>21-01-31</td>\n",
       "      <td>??</td>\n",
       "      <td>FEMA</td>\n",
       "      <td>https://www.fema.gov/press-release/20210131/fe...</td>\n",
       "      <td>FEMA Provides $47 Million to the State of Wisc...</td>\n",
       "    </tr>\n",
       "    <tr>\n",
       "      <th>72809</th>\n",
       "      <td>86686026</td>\n",
       "      <td>5590</td>\n",
       "      <td>21-01-31</td>\n",
       "      <td>??</td>\n",
       "      <td>LinkedIn</td>\n",
       "      <td>https://www.linkedin.com/news/story/gamestop-i...</td>\n",
       "      <td>GameStop: Investors weigh in</td>\n",
       "    </tr>\n",
       "    <tr>\n",
       "      <th>72810</th>\n",
       "      <td>86687281</td>\n",
       "      <td>446</td>\n",
       "      <td>21-01-31</td>\n",
       "      <td>??</td>\n",
       "      <td>LinkedIn</td>\n",
       "      <td>https://www.linkedin.com/pulse/behind-screens-...</td>\n",
       "      <td>A `Behind the Screens' Look at Shooting in Loc...</td>\n",
       "    </tr>\n",
       "    <tr>\n",
       "      <th>72811</th>\n",
       "      <td>52427939</td>\n",
       "      <td>4089</td>\n",
       "      <td>21-01-31</td>\n",
       "      <td>??</td>\n",
       "      <td>christianforums.com</td>\n",
       "      <td>https://www.christianforums.com/threads/advice...</td>\n",
       "      <td>&lt;strong&gt;Advice Needed&lt;/strong&gt; | &lt;strong&gt;Chris...</td>\n",
       "    </tr>\n",
       "  </tbody>\n",
       "</table>\n",
       "<p>72812 rows × 7 columns</p>\n",
       "</div>"
      ],
      "text/plain": [
       "             id  length      date country              publisher  \\\n",
       "0      42673662    2518  21-01-28      US               wmur.com   \n",
       "1      42673942     674  21-01-28      US               scpr.org   \n",
       "2      42673977     619  21-01-28      US               wmur.com   \n",
       "3      42674076     561  21-01-28      US  talkingpointsmemo.com   \n",
       "4      42674084     329  21-01-28      US               whnt.com   \n",
       "...         ...     ...       ...     ...                    ...   \n",
       "72807  86685577     841  21-01-31      ??         Express & Star   \n",
       "72808  86685578     262  21-01-31      ??                   FEMA   \n",
       "72809  86686026    5590  21-01-31      ??               LinkedIn   \n",
       "72810  86687281     446  21-01-31      ??               LinkedIn   \n",
       "72811  52427939    4089  21-01-31      ??    christianforums.com   \n",
       "\n",
       "                                                     url  \\\n",
       "0      https://www.wmur.com/article/heres-why-its-har...   \n",
       "1      https://www.scpr.org/news/2021/01/28/96375/sou...   \n",
       "2      https://www.wmur.com/article/first-bills-for-p...   \n",
       "3      https://api.talkingpointsmemo.com/news/2020-ce...   \n",
       "4      https://whnt.com/news/coronavirus/albertville-...   \n",
       "...                                                  ...   \n",
       "72807  https://www.expressandstar.com/news/uk-news/20...   \n",
       "72808  https://www.fema.gov/press-release/20210131/fe...   \n",
       "72809  https://www.linkedin.com/news/story/gamestop-i...   \n",
       "72810  https://www.linkedin.com/pulse/behind-screens-...   \n",
       "72811  https://www.christianforums.com/threads/advice...   \n",
       "\n",
       "                                                 snippet  \n",
       "0      Here's why it's hard to make more vaccines and...  \n",
       "1      South Carolina Reports 1st Known U.S. Cases Of...  \n",
       "2      First bills for Pappas, Kuster this session fo...  \n",
       "3      Census Flags Big Delays In Data Release That C...  \n",
       "4      Albertville senior living facility staff, resi...  \n",
       "...                                                  ...  \n",
       "72807  Coronavirus vaccines to be offered to over-70s...  \n",
       "72808  FEMA Provides $47 Million to the State of Wisc...  \n",
       "72809                       GameStop: Investors weigh in  \n",
       "72810  A `Behind the Screens' Look at Shooting in Loc...  \n",
       "72811  <strong>Advice Needed</strong> | <strong>Chris...  \n",
       "\n",
       "[72812 rows x 7 columns]"
      ]
     },
     "execution_count": 8,
     "metadata": {},
     "output_type": "execute_result"
    }
   ],
   "source": [
    "metadata"
   ]
  },
  {
   "cell_type": "code",
   "execution_count": 9,
   "metadata": {},
   "outputs": [],
   "source": [
    "texts = texts[1:]"
   ]
  },
  {
   "cell_type": "code",
   "execution_count": 10,
   "metadata": {},
   "outputs": [
    {
     "data": {
      "text/plain": [
       "str"
      ]
     },
     "execution_count": 10,
     "metadata": {},
     "output_type": "execute_result"
    }
   ],
   "source": [
    "h = 'hi'\n",
    "type(h)"
   ]
  },
  {
   "cell_type": "code",
   "execution_count": 11,
   "metadata": {},
   "outputs": [],
   "source": [
    "def remove_weird(x):\n",
    "    try:\n",
    "        return int(x)\n",
    "    except:\n",
    "        return 'drop'\n",
    "        "
   ]
  },
  {
   "cell_type": "code",
   "execution_count": 12,
   "metadata": {},
   "outputs": [],
   "source": [
    "texts = texts[texts['id'].apply(lambda x: remove_weird(x)) != 'drop']"
   ]
  },
  {
   "cell_type": "code",
   "execution_count": 13,
   "metadata": {},
   "outputs": [],
   "source": [
    "texts['id'] = texts['id'].apply(lambda x: int(x))"
   ]
  },
  {
   "cell_type": "code",
   "execution_count": 14,
   "metadata": {},
   "outputs": [],
   "source": [
    "merged = pd.merge(metadata,texts,on='id',how='inner')"
   ]
  },
  {
   "cell_type": "code",
   "execution_count": 15,
   "metadata": {
    "scrolled": true
   },
   "outputs": [
    {
     "data": {
      "text/plain": [
       "'<h> South Amboy St. Patrick \\'s Day Parade postponed because of COVID-19 <p> SOUTH AMBOY -- The annual St. Patrick \\'s Day Parade in the city has been postponed because of concerns caused by the COVID-19 pandemic . <p> \" Unfortunately , due to the global pandemic that is still affecting all of us , the 2021 South Amboy St. Patrick \\'s Day Parade has been postponed until Sunday , May 23 , 2021 , \" organizers wrote on the parade \\'s website . \" We will also be honoring all of our veterans at the parade . \" <p> Step-off for the parade is scheduled for 2 p.m. , according to its website . <p> The parade was postponed last year in March due to the pandemic . It was rescheduled for May but was canceled . <p> The parade here began in 1976 -- the idea of Frank Conley , who was owner of the Monaghan House . It consisted of one bagpiper , the South Amboy Police , Fire and First Aid squads and a small group of marchers representing the Frank Conley Association , according to @ @ @ @ @ @ @ @ @ @ @ @ @ @ @ @ @ @ @ become one of the largest parades in the state , the website says . <p> Much of the success of the parade is due to the donations and generosity of local businesses , corporations and individual sponsors , according to the website . <p> Organizers of the Woodbridge St. Patrick \\'s Day Parade , which was also scheduled to be held in March , have canceled that parade , citing ongoing concerns with the COVID-19 pandemic . <p> Email : sloyer@gannettnj.com <p> Susan Loyer covers Middlesex County and more for MyCentralJersey.com . To get unlimited access to her work , please subscribe or activate your digital account today . <h> How many variants of the coronavirus are there ? <p> How many variants are there of the COVID-19 virus ? AP Illustration/Peter HamlinPeter Hamlin/AP <p> How many variants of the coronavirus are there ? <p> There are many circulating around the world , but health experts are primarily concerned with the emergence of three . <p> As a virus infects people , it can mutate as it makes copies of itself . Some mutations can be harmful to a virus , causing it to die out . Others can offer an advantage and help it spread . <p> \" Not every mutation is created equal , \" said Mary Petrone , who studies infectious diseases at Yale University . \" The virus is going to get lucky now and again . \" <p> Monitoring variants is important because of the possibility that they could make vaccines and treatments less effective , or change the way they infect people . <p> A mutation early in the pandemic fueled the spread of the virus around the world , but there had been no notable changes since -- until recently , said @ @ @ @ @ @ @ @ @ @ @ @ @ @ @ @ @ @ @ in the United Kingdom late last year and has been detected in dozens of countries since . Health officials initially said it did n\\'t seem to cause worse disease , but some newer information suggests it might -- that remains unknown at the moment . It does appear to spread more easily , which could lead to more hospitalizations and deaths . <p> The variant might become dominant in the U.S. by March , according to the Centers for Disease Control and Prevention . <p> Other variants first detected in South Africa and in Brazil also appear more contagious , experts say . <p> Data so far suggests current vaccines should still protect against these variants , though there \\'s some concern their effectiveness may be slightly diminished . There is some evidence that some antibody treatments may be less effective against certain variants . <p> There are ways to adjust vaccines and treatments to maintain their effectiveness , said Dr. Anthony Fauci , the top U.S. infectious disease expert . <p> The emergence of variants is linked to ongoing surges @ @ @ @ @ @ @ @ @ @ @ @ @ @ @ @ @ @ @ of mask wearing and social distancing . <p> Uninsured New Jersey residents now have until May 15 to sign up for health coverage through the Affordable Care Act after Gov . Phil Murphy on Thursday extended the deadline from Jan. 31 . <p> The \" COVID-19 special enrollment period \" will begin Monday on New Jersey \\'s state-run insurance marketplace , GetCovered.Nj.Gov , Murphy said . While it is intended to give those who lost insurance during the pandemic an opportunity to buy coverage , there \\'s no requirement to prove the need is related to COVID-19 . <p> \" As part of our response to this pandemic , we \\'re keeping open the enrollment window for residents who are uninsured , \" said Marlene Caride , the commissioner of the Department of Banking and Insurance . \" This will give residents a chance to choose a plan now , instead of having to wait until next year . \" <p> Plans are available for those without job-based insurance . Depending on income , those who enroll may receive subsidies to help pay premiums and , in some cases , deductibles and co-payments . <p> More than @ @ @ @ @ @ @ @ @ @ @ @ @ @ @ @ @ @ @ the Department of Banking and Insurance . That was more than during last year \\'s six-week open-enrollment period . <p> The Biden administration announced a similar extension Thursday for the 36 states that rely on the federal website , Healthcare.gov , for purchasing Obamacare plans . New Jersey replaced that with its own website for 2021 coverage . <p> Job losses during the early months of the pandemic led to a loss of health coverage for an estimated 124,000 New Jersey residents who were unable to switch to a spouse \\'s plan , buy individual coverage or qualify for Medicaid , a report published in August said . <p> At the same time , enrollment in Medicaid -- known in New Jersey as NJFamilyCare -- grew by more than 118,000 people . Under the Affordable Care Act , eligibility for that program was expanded in New Jersey to include childless adults . <p> Despite the large number of Americans who lost coverage in the economic fallout from the pandemic , the Trump administration did not open a special enrollment period for @ @ @ @ @ @ @ @ @ @ @ @ @ @ @ @ @ @ @ Jersey , legislation intended to protect the insurance gains of the Affordable Care Act led to a decline in average premiums for coverage this year to levels not seen since 2014 . <p> Murphy announced the deadline extension on a Facebook Live event during which he signed an executive order to create an interagency task force to look for ways to lower health care costs and create more price transparency . <p> He was joined by Caride ; Shabnam Salih , the director of Murphy \\'s office of health care affordability and transparency ; Maura Collinsgru , a health care advocate with New Jersey Citizen Action , and Robert Garrett , chief executive of Hackensack Meridian Health . <p> Lindy Washburn is a senior health care reporter for NorthJersey.com . To keep up-to-date about how changes in the medical world affect the health of you and your family , please subscribe or activate your digital account today . <h> Chick Wrestler Classic an invitational for New Jersey high school-age girls <p> Competing in the sport of wrestling long before it was sanctioned for girls , Rachel Daddio fondly recalls the warm welcome and nurturing she received from male teammates and coaches . <p> The East Brunswick alumna , who wrestled for the Bears before graduating just over a decade ago , wants to pay that kindness forward through the promotion of girls wrestling . <p> Now an assistant coach at her high school alma mater , Daddio , who has served as a tournament director and tournament coordinator at the district and conference level , respectively , has founded the Chick Wrestler Classic . <p> The invitational tournament , sponsored by Chick Wrestler , will be held at St. Joseph High School in Metuchen on Feb. 21 , and will feature nearly 90 high school-age girls from across the state . <p> Those interested in securing a spot in the field -- the entry fee is $75 per girl -- should email Daddio at redaddio@yahoo.com . <p> The event will take place roughly two weeks before the official @ @ @ @ @ @ @ @ @ @ @ @ @ @ @ @ @ @ @ dual meet season will commence March 16 , but it remains unclear how many opportunities girls will have to compete during the pandemic-impacted season . <p> The NJSIAA still hopes to conduct a postseason individual tournament for girls , but has yet to detail any such plans . <p> Because the Chick Wrestler Classic is not NJSIAA-sanctioned , high school coaches can not be in the corners of their respective wrestlers , who will instead be mentored by their respective club coaches . Girls are also prohibited from wearing school-issued uniforms . <p> Daddio said the tournament will adhere to state Department of Health COVID-19 safety protocols and New Jersey Gov . Phil Murphy \\'s coronavirus youth sports guidelines . <p> Only essential personnel -- including officials , table workers and tournament directors -- will be permitted inside the St. Joseph gymnasium as Murphy \\'s executive order currently does not allow spectators at indoor events . The Chick Wrestler Classic will be livestreamed free of charge to viewers . <p> The tournament , which will be conducted on four mats , @ @ @ @ @ @ @ @ @ @ @ @ @ @ @ @ @ @ @ 215 pounds with a two-pound allowance . Wrestlers are guaranteed a minimum of three bouts as medals will be awarded through eighth place . <p> The irony that the Chick Wrestler Classic is being hosted at an all-boys school was not lost on St. Joseph head coach Mike Carbone , who is serving as the tournament \\'s co-director . <p> \" I \\'m sure if we start to get more good wrestlers in our school the next couple of years , people can not accuse me of recruiting from this tournament , \" Carbone said with a laugh , noting his school-community is honored to be able to support the girls . <p> \" All we are doing in supplying the facilities , \" said Carbone , whose high school on Feb. 15 is also hosting the Mobbin Classic , a tournament featuring many of the best high school-age boys wrestlers in the state . <p> Carbone said he believes both invitationals provide \" hope that we can run an ( NJSIAA-sanctioned ) individual tournament at the end of the season @ @ @ @ @ @ @ @ @ @ @ @ @ @ @ @ @ @ @ <p> \" The more wrestling that happens , the better , \" Carbone said , adding he believes competing in February before the start of the season will illustrate that \" wrestling can go on and should n\\'t be demonized . \" <p> Two years ago , New Jersey became the first state in the Northeast and the 12th in the country to offer wrestling for girls , whose participation numbers nationwide have grown from 112 in 1990-91 to 21,124 in 2018-19 , according to the National Federation of High School Associations . <p> \" My first wrestling coach , our eighth-grade coach , treated me like one of the team and no one made any type of big deal that I was a girl , \" Daddio recalled of her indoctrination to the sport under then coach Andrew Bowler . <p> Daddio remained involved in the sport throughout high school , wrestling all but one season , and returned to the mat her sophomore year following a bout of mononucleosis to help keep the scorebook . <p> Daddio served as @ @ @ @ @ @ @ @ @ @ @ @ @ @ @ @ @ @ @ High School in Edison , and served as director for the District 22 boys wrestling tournament at Middletown North High School . <p> The GMC Wrestling Coaches Association honored Daddio at the end of last season with its Pioneer Award , \" in recognition and appreciation \" of her \" contributions in creating the inaugural GMC girls high school wrestling tournament . \" <p> Daddio coached in last year \\'s region tournament and prepared more than three dozen wrestlers for the event with an open practice at CJA Wrestling Club in Milltown . <p> \" It \\'s kind of amazing , \" Daddio said regarding the meteoric growth of girls wrestling . \" Once it got sanctioned , it just blew up . I could n\\'t believe the growth in Year One and then from Year One to Year Two . \" <p> With the NJSIAA sanctioning wildly successful regional and state tournaments for girls two years ago , the statewide athletics association has seen a spike in female participation , with nearly 500 girls competing , according to the latest @ @ @ @ @ @ @ @ @ @ @ @ @ @ @ @ @ @ @ of the opportunity due to the physical disadvantage and because , according to Wrestling USA , society did not embrace girls training and competing against boys in a combat sport . <p> With more than a dozen high school athletics associations and about four dozen colleges offering the sport for girls , opportunities for female wrestlers abound . <p> \" I always felt if coaches had the opportunity to teach girl wrestlers , it would completely change their mind about girls competing in the sport , \" Daddio said . \" Everyone has warmed up to the idea . There \\'s so many coaches that will come up to me and tell me the girls are the best . \" <p> Daddio said she hopes the Chick Wrestler Classic not only provides opportunities for high school-age girls , but also shines a spotlight on their talent and passion for the sport . <p> \" With all the talk that \\'s been going on with the season approaching , there has n\\'t been much said about girls wrestling , \" Daddio explained @ @ @ @ @ @ @ @ @ @ @ @ @ @ @ @ @ @ @ \\'s not at the level that boys wrestling is at , but we ca n\\'t forget about it . We \\'ve got to keep moving it forward . \" <h> President to address members of two Houses seated in three locations for first time <p> The budget session of Parliament will begin on Friday with President Ram Nath Kovind addressing members of both the Houses seated in three different locations for the first time as part of precautions against COVID-19 . <p> A Rajya Sabha press release said that 144 members of Parliament will be seated in the Central Hall including the council of ministers , chairpersons of various committees of Lok Sabha and Rajya Sabha , leaders of different parties and groups in both the Houses , former Prime Ministers and national presidents of BJP and Congress . <p> The remaining members of Parliament will be seated in the chambers of Lok Sabha and Rajya Sabha as per the COVID-induced physical distancing norms . <p> The release said that Rajya Sabha Chairman M Venkaiah Naidu has taken COVID test ahead of the session and several members of the upper House have also taken the test . <p> It said 1,209 officials and staff of the Rajya Sabha Secretariat have also been administered COVID test as part of the @ @ @ @ @ @ @ @ @ @ @ @ @ @ @ @ @ @ @ last year . <p> The release said that 715 officials and staff of the Rajya Sabha Secretariat , who are not directly connected with the proceedings of the House have been administered antigen tests while 494 associated with the proceedings of the House have been administered RT PCR tests . <p> \" None have tested positive in the antigen tests and results of RT PCR tests are expected today . This is in sharp contrast to 64 officials and staff of the Rajya Sabha Secretariat having tested positive ahead of the Monsoon Session last year , \" the release said . <p> The Rajya Sabha Chairman , who reviewed in detail preparations for the budget session on Wednesday , has given directions that personal staff of ministers , members of Rajya Sabha and officers of the ministries visiting Parliament shall also be tested for coronavirus . <p> Rajya Sabha will meet at 3 pm on Friday and one hour after the presentation of the general budget on February 1 . On the remaining days , the House will meet between 9 @ @ @ @ @ @ @ @ @ @ @ @ @ @ @ @ @ @ @ and groups in the House on Sunday . The Business Advisory Committee will meet tomorrow . <p> The budget session will have 33 sittings and the union budget will be presented for the first time in conditions created by COVID-19 . <p> Rajya Sabha will have both Zero Hour and Question Hour during the session . <p> Question Hour will begin at 9.30 am . Zero Hour and Question Hour were not taken up during the monsoon session last year as the House met for only four hours per day , the release said . ( ANI ) <h> To shave or not to shave : How do beards impact the effectiveness of face masks ? <p> Weather is getting cooler and beards are getting bushier as some Canadian men look to add an extra layer of warmth to their faces this winter . <p> Others , motivated by lockdown measures and extended work-from-home terms , may view this as a perfect time to see how unruly those whiskers can get before a trim is needed . <p> But as long as mask-wearing is encouraged amid the COVID-19 pandemic , should they worry about facial hair interfering with the effectiveness of face coverings ? <p> Some experts say men should shave their beards in order to obtain the best mask fit , but others say it depends how long the stubble gets , and if their job requires a tighter-fitting respirator . <p> The CDC has an infographic on facial hair and N-95s on its website , outlining styles that are safe , including handlebar mustaches and soul patches . Other looks -- like extended goatees , muttonchops and Van Dykes -- cross the seal of the mask @ @ @ @ @ @ @ @ @ @ @ @ @ @ @ @ @ @ @ for health-care workers , but when it comes to regular cloth masks , breaking a seal is n\\'t as much of a concern . <p> \" If it \\'s covering your mouth and nose , it \\'s doing what it \\'s supposed to do , \" he said . \" Whether there \\'s a gap on the side is n\\'t really here or there because there \\'s always a gap . \" <p> Wang \\'s recent research suggests men with beards experience more leakage -- droplets expelling through gaps in the mask -- than those without . Leaky areas of masks are most prominent around the nose , chin and the cheeks , and pleated masks tend to leak more than other styles . <p> Having facial hair jutting out of a mask increases that leakage zone , she said . So the most effective way to ensure a cloth mask fits around the face is to remove the beard . <p> \" Having more leaks decreases the filtration , \" Wang said , adding that research on mask fit and @ @ @ @ @ @ @ @ @ @ @ @ @ @ @ @ @ @ @ not the filter of the mask . \" <p> Dr. Lisa Bryski , an emergency-room physician in Winnipeg , has seen many colleagues shave off their beards in order to properly wear masks in the health-care field . <p> While a cloth covering does n\\'t provide the same level of protection as an N-95 , Bryski suggests men outside front-line work settings might want to pick up the razor too . <p> \" It \\'s a personal choice , but anything you do to increase your own protection and protection of others is appropriate in these times , \" she said . \" Where shaving is not an option , keeping the beard groomed and trimmed may reduce the amount of hair and help with mask seal . \" <p> Bryski acknowledged that for some men , like those in the Sikh community , beards may be an integral part of religious identity . <p> Sukhmeet Sachal , a second-year medical student at UBC , recognized that and is offering a solution . <p> Sachal is part of a group that @ @ @ @ @ @ @ @ @ @ @ @ @ @ @ @ @ @ @ . The masks , made by volunteers , wrap around beards and tie over turbans , offering Sikh men a better alternative than a regular face mask they could buy at a store . <p> Sachal said he got the idea when he walked into a gurdwara with his father and saw hardly anyone wearing a mask . While he says there may have been a combination of reasons for that , the beards played a part . <p> \" We heard from people directly that there were no masks available for them , \" Sachal said . \" When they went to the store , they did n\\'t find any . \" <p> Sachal says hair , whether it \\'s on your face or head , is seen in Sikhism as a gift from God . Turbans are wrapped around hair to protect it , and most Sikh men refrain from cutting their hair or shaving their beards . <p> \" That \\'s why these masks are important , \" Sachal said . \" They allow people to practise their @ @ @ @ @ @ @ @ @ @ @ @ @ @ @ @ @ @ @ at beards as a \" variable \" in how well a mask fits , but \" not a determiner . \" <p> A mask can be ill-fitting whether you have a beard or not , he explained . And while the length of facial hair will impact fit further , he says mask-wearing is only one safety precaution we should be practising . <p> \" I do n\\'t think beards should be demonized , because it \\'s not just about wearing a mask , \" he said . \" You \\'re also maintaining physical distance , you \\'re also not doing large crowds ... <p> \" It \\'s when you start thinking that masks protect you completely that beards become more risky . \" <h> We are sorry . We are not allowed to sell this product with the selected payment method <h> Publisher \\'s Summary <p> Brought to you by Penguin . <p> I stood at the start of the new year feeling renewed , thinking that having got through the challenges of I \\'m a Celebrity . I had survived the toughest experience of my life , faced my worst fears and thrived . Surely 2020 would be a breeze . How wrong I was . It had n\\'t been anything close to the toughest experience of my life . My biggest challenge was just around the corner , and it was , for the most part , going to take place in my own home . <p> In March 2020 , Kate Garraway \\'s husband , Derek Draper , contracted Covid-19 and was placed in a medically-induced coma . Initially , Kate was told that he would not survive . Still in hospital and in a critical condition , he is thought to be the UK \\'s longest-fighting Covid-19 patient . <p> In this intimate book , Kate shares her deeply @ @ @ @ @ @ @ @ @ @ @ @ @ @ @ @ @ @ @ how she is coping with the uncertainty of their future , how she \\'s supporting her children through this traumatic time , how she has found strength in community and how she strives to hold on to hope even at the darkest of times . Covid-19 has affected everyone across the country in so many ways and Kate hopes that by revealing her own personal experience , it will give comfort to others . By sharing the lessons she has learnt along the way , it will help us all begin to try to re-build our lives . <p> Kate \\'s exceptional courage , positivity and warmth shine through on every page , making The Power of Hope a truly inspiring read that will resonate with all of us whose lives continue to be touched by the virus . <h> Budget Session of Parliament begins today , expected to be stormy <p> New Delhi : The Budget Session of the Parliament will begin Friday amid strict protocols being maintained for the spread of COVID-19 . Even though the Union Budget will be presented February 1 , there will be plenty of fireworks in the upcoming session . The Budget session will take place during the ongoing farmers \\' protest and the violence which has scarred the national capital . Hence the Budget Session which will continue till the first week of April is expected to be stormy . Eighteen opposition parties have already said that they will boycott President Ram nath Kovind \\'s address to both the Lok Sabha and the Rajya Sabha . The opposition will also try to corner the government over the contentious farm laws amid the ongoing farmers \\' protest . <p> Vice-President and Chairman of Rajya Sabha Venkaiah Naidu has taken the COVID-19 test with other members . More than 1,200 officials and staff of the Rajya Sabha secretariat have also undergone the COVID-19 test . So far no one has tested positive . @ @ @ @ @ @ @ @ @ @ @ @ @ @ @ @ @ @ @ concerns over COVID-19 . The Winter Session was not held due to the COVID-19 pandemic . <p> Unlike the Monsoon Session , the Parliament will not function on weekends this time . The Question Hour , which was scrapped in the Monsoon Session due to time constraint , has been restored . <p> The Monsoon Session , which started after nearly five months of indefinite adjournment , was concluded eight days ahead of time in September . <p> In the mandatory COVID-19 tests for parliamentarians before the Monsoon Session started , 17 members of the Lok Sabha and eight from the Rajya Sabha had tested positive . Over the 10-day session , several others , including Union Minister Nitin Gadkari had tested positive . Thankfully all have recovered . <p> With the spread of COVID-19 decreasing considerably , it is expected that this time around the Budget Session of the Parliament will be hassle free .'"
      ]
     },
     "execution_count": 15,
     "metadata": {},
     "output_type": "execute_result"
    }
   ],
   "source": [
    "merged['body'][5]"
   ]
  },
  {
   "cell_type": "code",
   "execution_count": 16,
   "metadata": {},
   "outputs": [],
   "source": [
    "def reformat(x):\n",
    "    return re.sub(r'(<p>|@ )','', x)"
   ]
  },
  {
   "cell_type": "code",
   "execution_count": 17,
   "metadata": {},
   "outputs": [],
   "source": [
    "merged['body'] = merged['body'].apply(lambda x: str(x))\n",
    "merged['body'] = merged['body'].apply(reformat)"
   ]
  },
  {
   "cell_type": "code",
   "execution_count": 67,
   "metadata": {},
   "outputs": [],
   "source": [
    "merged.to_csv('corona-21-05.csv')"
   ]
  }
 ],
 "metadata": {
  "kernelspec": {
   "display_name": "Python 3 (ipykernel)",
   "language": "python",
   "name": "python3"
  },
  "language_info": {
   "codemirror_mode": {
    "name": "ipython",
    "version": 3
   },
   "file_extension": ".py",
   "mimetype": "text/x-python",
   "name": "python",
   "nbconvert_exporter": "python",
   "pygments_lexer": "ipython3",
   "version": "3.8.5"
  }
 },
 "nbformat": 4,
 "nbformat_minor": 4
}
