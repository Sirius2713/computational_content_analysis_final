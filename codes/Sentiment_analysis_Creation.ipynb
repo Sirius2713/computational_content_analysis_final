{
 "cells": [
  {
   "cell_type": "code",
   "execution_count": 41,
   "id": "5945da93",
   "metadata": {},
   "outputs": [],
   "source": [
    "import numpy as np\n",
    "import pandas as pd\n",
    "import seaborn as sns\n",
    "import ast\n",
    "from tqdm.notebook import tqdm\n",
    "tqdm.pandas()"
   ]
  },
  {
   "cell_type": "code",
   "execution_count": 4,
   "id": "c17adfac",
   "metadata": {},
   "outputs": [],
   "source": [
    "df = pd.read_csv('/project/macss/cca_final_gabe_wenqian/data/csv_data/all_corona_data.csv')\n",
    "df.drop(['id','length','body_tokens', 'snippet_tokens'], axis=1, inplace=True)"
   ]
  },
  {
   "cell_type": "markdown",
   "id": "90443a5a",
   "metadata": {},
   "source": [
    "# Cleaning body sentences"
   ]
  },
  {
   "cell_type": "code",
   "execution_count": 6,
   "id": "e932a073",
   "metadata": {},
   "outputs": [],
   "source": [
    "def remove_empty_sentences(row):\n",
    "    sentences = []\n",
    "    for sentence in row:\n",
    "        if (len(sentence)) < 500 and len(sentence) > 12:\n",
    "            sentences.append(sentence)\n",
    "    return sentences\n",
    "\n",
    "# Creating full sentences and truncating to first 9 sentences in each article.\n",
    "df['sentences'] = df['body'].apply(lambda x: x.split('.'))\n",
    "df['sentences'] = df['sentences'].apply(lambda x: remove_empty_sentences(x))\n",
    "df['trunc_sentence'] = df['sentences'].apply(lambda x: x[1:9])\n",
    "country_df = df[df['country'].apply(lambda x: x in ['US', 'IN', 'CA'])]"
   ]
  },
  {
   "cell_type": "markdown",
   "id": "75e458ec",
   "metadata": {},
   "source": [
    "## Calculate new sentiment score"
   ]
  },
  {
   "cell_type": "code",
   "execution_count": 9,
   "id": "00e076c6",
   "metadata": {},
   "outputs": [
    {
     "name": "stderr",
     "output_type": "stream",
     "text": [
      "No model was supplied, defaulted to distilbert-base-uncased-finetuned-sst-2-english (https://huggingface.co/distilbert-base-uncased-finetuned-sst-2-english)\n"
     ]
    },
    {
     "name": "stdout",
     "output_type": "stream",
     "text": [
      "cuda:0\n"
     ]
    },
    {
     "name": "stderr",
     "output_type": "stream",
     "text": [
      "TAPAS models are not usable since `torch_scatter` can't be loaded. It seems you have `torch_scatter` installed with the wrong CUDA version. Please try to reinstall it following the instructions here: https://github.com/rusty1s/pytorch_scatter.\n"
     ]
    }
   ],
   "source": [
    "from transformers import pipeline\n",
    "import torch \n",
    "\n",
    "device = torch.device(\"cuda:0\" if torch.cuda.is_available else \"cpu\")\n",
    "print(device)\n",
    "nlp = pipeline(\"sentiment-analysis\")"
   ]
  },
  {
   "cell_type": "code",
   "execution_count": 10,
   "id": "33e44f8c",
   "metadata": {},
   "outputs": [
    {
     "data": {
      "text/plain": [
       "127843"
      ]
     },
     "execution_count": 10,
     "metadata": {},
     "output_type": "execute_result"
    }
   ],
   "source": [
    "len(df) "
   ]
  },
  {
   "cell_type": "code",
   "execution_count": 12,
   "id": "320da95e",
   "metadata": {},
   "outputs": [
    {
     "data": {
      "text/plain": [
       "63921.5"
      ]
     },
     "execution_count": 12,
     "metadata": {},
     "output_type": "execute_result"
    }
   ],
   "source": [
    "len(df)/ 2"
   ]
  },
  {
   "cell_type": "code",
   "execution_count": 19,
   "id": "3bb7ec3b",
   "metadata": {},
   "outputs": [],
   "source": [
    "first_half = df.iloc[:63922]\n",
    "second_half = df.iloc[63922:]"
   ]
  },
  {
   "cell_type": "code",
   "execution_count": 17,
   "id": "1492984b",
   "metadata": {},
   "outputs": [
    {
     "data": {
      "application/vnd.jupyter.widget-view+json": {
       "model_id": "a800e963c6a945499574e99131610580",
       "version_major": 2,
       "version_minor": 0
      },
      "text/plain": [
       "  0%|          | 0/63922 [00:00<?, ?it/s]"
      ]
     },
     "metadata": {},
     "output_type": "display_data"
    }
   ],
   "source": [
    "df['sentiment_score'] = first_half['trunc_sentence'].progress_apply(lambda x: nlp(x)) # Takes about 2 hours."
   ]
  },
  {
   "cell_type": "code",
   "execution_count": 20,
   "id": "d238177a",
   "metadata": {
    "scrolled": true
   },
   "outputs": [
    {
     "data": {
      "application/vnd.jupyter.widget-view+json": {
       "model_id": "e118d30773014809a500196934f2f3ae",
       "version_major": 2,
       "version_minor": 0
      },
      "text/plain": [
       "  0%|          | 0/63921 [00:00<?, ?it/s]"
      ]
     },
     "metadata": {},
     "output_type": "display_data"
    }
   ],
   "source": [
    "df['sentiment_score'] = second_half['trunc_sentence'].progress_apply(lambda x: nlp(x)) # Takes about 2 hours."
   ]
  },
  {
   "cell_type": "code",
   "execution_count": 50,
   "id": "4a142ed8",
   "metadata": {},
   "outputs": [
    {
     "name": "stderr",
     "output_type": "stream",
     "text": [
      "/software/python-anaconda-2020.11-el8-x86_64/lib/python3.8/site-packages/IPython/core/interactiveshell.py:3457: DtypeWarning: Columns (8) have mixed types.Specify dtype option on import or set low_memory=False.\n",
      "  exec(code_obj, self.user_global_ns, self.user_ns)\n"
     ]
    }
   ],
   "source": [
    "fh = pd.read_csv('first_half_sentim_all.csv')\n",
    "df = pd.read_csv('second_half_sentim_all.csv')"
   ]
  },
  {
   "cell_type": "code",
   "execution_count": 119,
   "id": "301b0e06",
   "metadata": {},
   "outputs": [],
   "source": [
    "def fix_bug(x): \n",
    "    \"\"\" CSV reads in the list of dictionaries as a string. Very annoying.\n",
    "    \"\"\"\n",
    "    try:\n",
    "        return ast.literal_eval(str(x))\n",
    "    except:\n",
    "        return np.nan    \n",
    "df['sentiment_score'].dropna(inplace=True,axis=0)\n",
    "fh['sentiment_score'].dropna(inplace=True, axis=0)"
   ]
  },
  {
   "cell_type": "code",
   "execution_count": 117,
   "id": "1751a9c0",
   "metadata": {},
   "outputs": [],
   "source": [
    "ff = pd.concat((fh, df), axis=0, ignore_index=True)"
   ]
  },
  {
   "cell_type": "code",
   "execution_count": 118,
   "id": "9e8ed60f",
   "metadata": {},
   "outputs": [
    {
     "data": {
      "text/plain": [
       "[{'label': 'NEGATIVE', 'score': 0.9954138994216919},\n",
       " {'label': 'POSITIVE', 'score': 0.9943636655807495},\n",
       " {'label': 'POSITIVE', 'score': 0.9874743223190308},\n",
       " {'label': 'POSITIVE', 'score': 0.9982878565788269},\n",
       " {'label': 'POSITIVE', 'score': 0.9973045587539673},\n",
       " {'label': 'NEGATIVE', 'score': 0.7309349179267883},\n",
       " {'label': 'NEGATIVE', 'score': 0.9813489317893982},\n",
       " {'label': 'NEGATIVE', 'score': 0.9680008292198181}]"
      ]
     },
     "execution_count": 118,
     "metadata": {},
     "output_type": "execute_result"
    }
   ],
   "source": [
    "fix_bug(ff['sentiment_score'][100])"
   ]
  },
  {
   "cell_type": "code",
   "execution_count": 120,
   "id": "89931cc4",
   "metadata": {},
   "outputs": [],
   "source": [
    "ff['sentiment_score'] =  ff['sentiment_score'].apply(lambda x: fix_bug(x))"
   ]
  },
  {
   "cell_type": "code",
   "execution_count": 121,
   "id": "bd0f4efc",
   "metadata": {},
   "outputs": [
    {
     "data": {
      "text/plain": [
       "Unnamed: 0                     0\n",
       "date                           0\n",
       "country                        0\n",
       "publisher                      0\n",
       "snippet                        0\n",
       "body                           0\n",
       "body_tokens_normalized         0\n",
       "trunc_sentence                 0\n",
       "sentiment_score           127843\n",
       "neg_sentim_score               0\n",
       "body_tokens_reduced            0\n",
       "topic                          0\n",
       "sentences                      0\n",
       "dtype: int64"
      ]
     },
     "execution_count": 121,
     "metadata": {},
     "output_type": "execute_result"
    }
   ],
   "source": [
    "ff.isna().sum()"
   ]
  },
  {
   "cell_type": "code",
   "execution_count": 123,
   "id": "3e535018",
   "metadata": {},
   "outputs": [],
   "source": [
    "ff.dropna(inplace=True,axis=0)"
   ]
  },
  {
   "cell_type": "code",
   "execution_count": 18,
   "id": "3d7a3566",
   "metadata": {},
   "outputs": [],
   "source": [
    "df.to_csv('first_half_sentim_all.csv')"
   ]
  },
  {
   "cell_type": "code",
   "execution_count": 21,
   "id": "f5941f6e",
   "metadata": {},
   "outputs": [],
   "source": [
    "df.to_csv('second_half_sentim_all.csv')"
   ]
  },
  {
   "cell_type": "code",
   "execution_count": 130,
   "id": "c11f253a",
   "metadata": {},
   "outputs": [],
   "source": [
    "def calc_sentiment(row):\n",
    "    \"\"\" Calculates the negative sentiment score.\n",
    "    \"\"\"\n",
    "    neg = 0\n",
    "    pos = 0\n",
    "    for sentiment in row:\n",
    "        try:\n",
    "            if sentiment['label'] == 'NEGATIVE':\n",
    "                neg += sentiment['score']\n",
    "            else:\n",
    "                pos += sentiment['score']\n",
    "        except:\n",
    "            return np.nan\n",
    "    final = neg/(neg + pos)\n",
    "    return final"
   ]
  },
  {
   "cell_type": "markdown",
   "id": "ae3d7e3b",
   "metadata": {},
   "source": [
    "Now we use this dataset and convert it to csv for use in Results(1)-health_data_correlations"
   ]
  },
  {
   "cell_type": "code",
   "execution_count": 131,
   "id": "cbf41d21",
   "metadata": {},
   "outputs": [],
   "source": [
    "ff['new_negativ_sent_score'] = ff['sentiment_score'].apply(lambda x: calc_sentiment(x))"
   ]
  },
  {
   "cell_type": "code",
   "execution_count": 134,
   "id": "4baa223a",
   "metadata": {},
   "outputs": [],
   "source": [
    "ff.drop(['snippet', 'body', 'body_tokens_normalized', 'body_tokens_reduced', 'neg_sentim_score'], axis=1, inplace=True)\n",
    "ff.drop(['publisher', 'sentences',], inplace=True, axis=1)"
   ]
  },
  {
   "cell_type": "code",
   "execution_count": 137,
   "id": "750ceca1",
   "metadata": {},
   "outputs": [],
   "source": [
    "ff.to_csv('all_country_sentiment.csv')"
   ]
  },
  {
   "cell_type": "code",
   "execution_count": 40,
   "id": "491f5e89",
   "metadata": {},
   "outputs": [],
   "source": [
    "country_df.drop(['snippet', 'body', 'body_tokens_normalized', 'body_tokens_reduced'], axis=1, inplace=True)"
   ]
  },
  {
   "cell_type": "code",
   "execution_count": 43,
   "id": "3a07fcb9",
   "metadata": {},
   "outputs": [],
   "source": [
    "country_df = country_df.drop('neg_sentim_score', axis=1)"
   ]
  },
  {
   "cell_type": "code",
   "execution_count": 44,
   "id": "c020f8eb",
   "metadata": {},
   "outputs": [],
   "source": [
    "country_df.to_csv('country_df_sentim.csv')"
   ]
  },
  {
   "cell_type": "markdown",
   "id": "005125e0",
   "metadata": {},
   "source": [
    "# Our World in Data Health CSV Conversion"
   ]
  },
  {
   "cell_type": "markdown",
   "id": "2bebca17",
   "metadata": {},
   "source": [
    "Only going to be looking for India, U.S and Canada since they have the most articles scraped."
   ]
  },
  {
   "cell_type": "code",
   "execution_count": 50,
   "id": "9085f46c",
   "metadata": {},
   "outputs": [],
   "source": [
    "pd.set_option('display.max_columns', None)"
   ]
  },
  {
   "cell_type": "code",
   "execution_count": 47,
   "id": "13d19b0b",
   "metadata": {},
   "outputs": [],
   "source": [
    "case_df = pd.read_csv('../Covid-case-data.csv')"
   ]
  },
  {
   "cell_type": "code",
   "execution_count": 48,
   "id": "959029ba",
   "metadata": {},
   "outputs": [],
   "source": [
    "case_df['date'] = case_df['date'].apply(lambda x: x[2:])"
   ]
  },
  {
   "cell_type": "code",
   "execution_count": 55,
   "id": "4b71397f",
   "metadata": {},
   "outputs": [],
   "source": [
    "case_df = case_df.loc[:,:'stringency_index']"
   ]
  },
  {
   "cell_type": "code",
   "execution_count": 56,
   "id": "263bcb02",
   "metadata": {},
   "outputs": [
    {
     "data": {
      "text/html": [
       "<div>\n",
       "<style scoped>\n",
       "    .dataframe tbody tr th:only-of-type {\n",
       "        vertical-align: middle;\n",
       "    }\n",
       "\n",
       "    .dataframe tbody tr th {\n",
       "        vertical-align: top;\n",
       "    }\n",
       "\n",
       "    .dataframe thead th {\n",
       "        text-align: right;\n",
       "    }\n",
       "</style>\n",
       "<table border=\"1\" class=\"dataframe\">\n",
       "  <thead>\n",
       "    <tr style=\"text-align: right;\">\n",
       "      <th></th>\n",
       "      <th>iso_code</th>\n",
       "      <th>continent</th>\n",
       "      <th>location</th>\n",
       "      <th>date</th>\n",
       "      <th>total_cases</th>\n",
       "      <th>new_cases</th>\n",
       "      <th>new_cases_smoothed</th>\n",
       "      <th>total_deaths</th>\n",
       "      <th>new_deaths</th>\n",
       "      <th>new_deaths_smoothed</th>\n",
       "      <th>total_cases_per_million</th>\n",
       "      <th>new_cases_per_million</th>\n",
       "      <th>new_cases_smoothed_per_million</th>\n",
       "      <th>total_deaths_per_million</th>\n",
       "      <th>new_deaths_per_million</th>\n",
       "      <th>new_deaths_smoothed_per_million</th>\n",
       "      <th>reproduction_rate</th>\n",
       "      <th>icu_patients</th>\n",
       "      <th>icu_patients_per_million</th>\n",
       "      <th>hosp_patients</th>\n",
       "      <th>hosp_patients_per_million</th>\n",
       "      <th>weekly_icu_admissions</th>\n",
       "      <th>weekly_icu_admissions_per_million</th>\n",
       "      <th>weekly_hosp_admissions</th>\n",
       "      <th>weekly_hosp_admissions_per_million</th>\n",
       "      <th>new_tests</th>\n",
       "      <th>total_tests</th>\n",
       "      <th>total_tests_per_thousand</th>\n",
       "      <th>new_tests_per_thousand</th>\n",
       "      <th>new_tests_smoothed</th>\n",
       "      <th>new_tests_smoothed_per_thousand</th>\n",
       "      <th>positive_rate</th>\n",
       "      <th>tests_per_case</th>\n",
       "      <th>tests_units</th>\n",
       "      <th>total_vaccinations</th>\n",
       "      <th>people_vaccinated</th>\n",
       "      <th>people_fully_vaccinated</th>\n",
       "      <th>total_boosters</th>\n",
       "      <th>new_vaccinations</th>\n",
       "      <th>new_vaccinations_smoothed</th>\n",
       "      <th>total_vaccinations_per_hundred</th>\n",
       "      <th>people_vaccinated_per_hundred</th>\n",
       "      <th>people_fully_vaccinated_per_hundred</th>\n",
       "      <th>total_boosters_per_hundred</th>\n",
       "      <th>new_vaccinations_smoothed_per_million</th>\n",
       "      <th>new_people_vaccinated_smoothed</th>\n",
       "      <th>new_people_vaccinated_smoothed_per_hundred</th>\n",
       "      <th>stringency_index</th>\n",
       "    </tr>\n",
       "  </thead>\n",
       "  <tbody>\n",
       "    <tr>\n",
       "      <th>158311</th>\n",
       "      <td>USA</td>\n",
       "      <td>North America</td>\n",
       "      <td>United States</td>\n",
       "      <td>20-01-22</td>\n",
       "      <td>1.0</td>\n",
       "      <td>NaN</td>\n",
       "      <td>NaN</td>\n",
       "      <td>NaN</td>\n",
       "      <td>NaN</td>\n",
       "      <td>NaN</td>\n",
       "      <td>0.003</td>\n",
       "      <td>NaN</td>\n",
       "      <td>NaN</td>\n",
       "      <td>NaN</td>\n",
       "      <td>NaN</td>\n",
       "      <td>NaN</td>\n",
       "      <td>NaN</td>\n",
       "      <td>NaN</td>\n",
       "      <td>NaN</td>\n",
       "      <td>NaN</td>\n",
       "      <td>NaN</td>\n",
       "      <td>NaN</td>\n",
       "      <td>NaN</td>\n",
       "      <td>NaN</td>\n",
       "      <td>NaN</td>\n",
       "      <td>NaN</td>\n",
       "      <td>NaN</td>\n",
       "      <td>NaN</td>\n",
       "      <td>NaN</td>\n",
       "      <td>NaN</td>\n",
       "      <td>NaN</td>\n",
       "      <td>NaN</td>\n",
       "      <td>NaN</td>\n",
       "      <td>NaN</td>\n",
       "      <td>NaN</td>\n",
       "      <td>NaN</td>\n",
       "      <td>NaN</td>\n",
       "      <td>NaN</td>\n",
       "      <td>NaN</td>\n",
       "      <td>NaN</td>\n",
       "      <td>NaN</td>\n",
       "      <td>NaN</td>\n",
       "      <td>NaN</td>\n",
       "      <td>NaN</td>\n",
       "      <td>NaN</td>\n",
       "      <td>NaN</td>\n",
       "      <td>NaN</td>\n",
       "      <td>0.0</td>\n",
       "    </tr>\n",
       "    <tr>\n",
       "      <th>158312</th>\n",
       "      <td>USA</td>\n",
       "      <td>North America</td>\n",
       "      <td>United States</td>\n",
       "      <td>20-01-23</td>\n",
       "      <td>1.0</td>\n",
       "      <td>0.0</td>\n",
       "      <td>NaN</td>\n",
       "      <td>NaN</td>\n",
       "      <td>NaN</td>\n",
       "      <td>NaN</td>\n",
       "      <td>0.003</td>\n",
       "      <td>0.000</td>\n",
       "      <td>NaN</td>\n",
       "      <td>NaN</td>\n",
       "      <td>NaN</td>\n",
       "      <td>NaN</td>\n",
       "      <td>NaN</td>\n",
       "      <td>NaN</td>\n",
       "      <td>NaN</td>\n",
       "      <td>NaN</td>\n",
       "      <td>NaN</td>\n",
       "      <td>NaN</td>\n",
       "      <td>NaN</td>\n",
       "      <td>NaN</td>\n",
       "      <td>NaN</td>\n",
       "      <td>NaN</td>\n",
       "      <td>NaN</td>\n",
       "      <td>NaN</td>\n",
       "      <td>NaN</td>\n",
       "      <td>NaN</td>\n",
       "      <td>NaN</td>\n",
       "      <td>NaN</td>\n",
       "      <td>NaN</td>\n",
       "      <td>NaN</td>\n",
       "      <td>NaN</td>\n",
       "      <td>NaN</td>\n",
       "      <td>NaN</td>\n",
       "      <td>NaN</td>\n",
       "      <td>NaN</td>\n",
       "      <td>NaN</td>\n",
       "      <td>NaN</td>\n",
       "      <td>NaN</td>\n",
       "      <td>NaN</td>\n",
       "      <td>NaN</td>\n",
       "      <td>NaN</td>\n",
       "      <td>NaN</td>\n",
       "      <td>NaN</td>\n",
       "      <td>0.0</td>\n",
       "    </tr>\n",
       "    <tr>\n",
       "      <th>158313</th>\n",
       "      <td>USA</td>\n",
       "      <td>North America</td>\n",
       "      <td>United States</td>\n",
       "      <td>20-01-24</td>\n",
       "      <td>2.0</td>\n",
       "      <td>1.0</td>\n",
       "      <td>NaN</td>\n",
       "      <td>NaN</td>\n",
       "      <td>NaN</td>\n",
       "      <td>NaN</td>\n",
       "      <td>0.006</td>\n",
       "      <td>0.003</td>\n",
       "      <td>NaN</td>\n",
       "      <td>NaN</td>\n",
       "      <td>NaN</td>\n",
       "      <td>NaN</td>\n",
       "      <td>NaN</td>\n",
       "      <td>NaN</td>\n",
       "      <td>NaN</td>\n",
       "      <td>NaN</td>\n",
       "      <td>NaN</td>\n",
       "      <td>NaN</td>\n",
       "      <td>NaN</td>\n",
       "      <td>NaN</td>\n",
       "      <td>NaN</td>\n",
       "      <td>NaN</td>\n",
       "      <td>NaN</td>\n",
       "      <td>NaN</td>\n",
       "      <td>NaN</td>\n",
       "      <td>NaN</td>\n",
       "      <td>NaN</td>\n",
       "      <td>NaN</td>\n",
       "      <td>NaN</td>\n",
       "      <td>NaN</td>\n",
       "      <td>NaN</td>\n",
       "      <td>NaN</td>\n",
       "      <td>NaN</td>\n",
       "      <td>NaN</td>\n",
       "      <td>NaN</td>\n",
       "      <td>NaN</td>\n",
       "      <td>NaN</td>\n",
       "      <td>NaN</td>\n",
       "      <td>NaN</td>\n",
       "      <td>NaN</td>\n",
       "      <td>NaN</td>\n",
       "      <td>NaN</td>\n",
       "      <td>NaN</td>\n",
       "      <td>0.0</td>\n",
       "    </tr>\n",
       "    <tr>\n",
       "      <th>158314</th>\n",
       "      <td>USA</td>\n",
       "      <td>North America</td>\n",
       "      <td>United States</td>\n",
       "      <td>20-01-25</td>\n",
       "      <td>2.0</td>\n",
       "      <td>0.0</td>\n",
       "      <td>NaN</td>\n",
       "      <td>NaN</td>\n",
       "      <td>NaN</td>\n",
       "      <td>NaN</td>\n",
       "      <td>0.006</td>\n",
       "      <td>0.000</td>\n",
       "      <td>NaN</td>\n",
       "      <td>NaN</td>\n",
       "      <td>NaN</td>\n",
       "      <td>NaN</td>\n",
       "      <td>NaN</td>\n",
       "      <td>NaN</td>\n",
       "      <td>NaN</td>\n",
       "      <td>NaN</td>\n",
       "      <td>NaN</td>\n",
       "      <td>NaN</td>\n",
       "      <td>NaN</td>\n",
       "      <td>NaN</td>\n",
       "      <td>NaN</td>\n",
       "      <td>NaN</td>\n",
       "      <td>NaN</td>\n",
       "      <td>NaN</td>\n",
       "      <td>NaN</td>\n",
       "      <td>NaN</td>\n",
       "      <td>NaN</td>\n",
       "      <td>NaN</td>\n",
       "      <td>NaN</td>\n",
       "      <td>NaN</td>\n",
       "      <td>NaN</td>\n",
       "      <td>NaN</td>\n",
       "      <td>NaN</td>\n",
       "      <td>NaN</td>\n",
       "      <td>NaN</td>\n",
       "      <td>NaN</td>\n",
       "      <td>NaN</td>\n",
       "      <td>NaN</td>\n",
       "      <td>NaN</td>\n",
       "      <td>NaN</td>\n",
       "      <td>NaN</td>\n",
       "      <td>NaN</td>\n",
       "      <td>NaN</td>\n",
       "      <td>0.0</td>\n",
       "    </tr>\n",
       "    <tr>\n",
       "      <th>158315</th>\n",
       "      <td>USA</td>\n",
       "      <td>North America</td>\n",
       "      <td>United States</td>\n",
       "      <td>20-01-26</td>\n",
       "      <td>5.0</td>\n",
       "      <td>3.0</td>\n",
       "      <td>NaN</td>\n",
       "      <td>NaN</td>\n",
       "      <td>NaN</td>\n",
       "      <td>NaN</td>\n",
       "      <td>0.015</td>\n",
       "      <td>0.009</td>\n",
       "      <td>NaN</td>\n",
       "      <td>NaN</td>\n",
       "      <td>NaN</td>\n",
       "      <td>NaN</td>\n",
       "      <td>NaN</td>\n",
       "      <td>NaN</td>\n",
       "      <td>NaN</td>\n",
       "      <td>NaN</td>\n",
       "      <td>NaN</td>\n",
       "      <td>NaN</td>\n",
       "      <td>NaN</td>\n",
       "      <td>NaN</td>\n",
       "      <td>NaN</td>\n",
       "      <td>NaN</td>\n",
       "      <td>NaN</td>\n",
       "      <td>NaN</td>\n",
       "      <td>NaN</td>\n",
       "      <td>NaN</td>\n",
       "      <td>NaN</td>\n",
       "      <td>NaN</td>\n",
       "      <td>NaN</td>\n",
       "      <td>NaN</td>\n",
       "      <td>NaN</td>\n",
       "      <td>NaN</td>\n",
       "      <td>NaN</td>\n",
       "      <td>NaN</td>\n",
       "      <td>NaN</td>\n",
       "      <td>NaN</td>\n",
       "      <td>NaN</td>\n",
       "      <td>NaN</td>\n",
       "      <td>NaN</td>\n",
       "      <td>NaN</td>\n",
       "      <td>NaN</td>\n",
       "      <td>NaN</td>\n",
       "      <td>NaN</td>\n",
       "      <td>0.0</td>\n",
       "    </tr>\n",
       "  </tbody>\n",
       "</table>\n",
       "</div>"
      ],
      "text/plain": [
       "       iso_code      continent       location      date  total_cases  \\\n",
       "158311      USA  North America  United States  20-01-22          1.0   \n",
       "158312      USA  North America  United States  20-01-23          1.0   \n",
       "158313      USA  North America  United States  20-01-24          2.0   \n",
       "158314      USA  North America  United States  20-01-25          2.0   \n",
       "158315      USA  North America  United States  20-01-26          5.0   \n",
       "\n",
       "        new_cases  new_cases_smoothed  total_deaths  new_deaths  \\\n",
       "158311        NaN                 NaN           NaN         NaN   \n",
       "158312        0.0                 NaN           NaN         NaN   \n",
       "158313        1.0                 NaN           NaN         NaN   \n",
       "158314        0.0                 NaN           NaN         NaN   \n",
       "158315        3.0                 NaN           NaN         NaN   \n",
       "\n",
       "        new_deaths_smoothed  total_cases_per_million  new_cases_per_million  \\\n",
       "158311                  NaN                    0.003                    NaN   \n",
       "158312                  NaN                    0.003                  0.000   \n",
       "158313                  NaN                    0.006                  0.003   \n",
       "158314                  NaN                    0.006                  0.000   \n",
       "158315                  NaN                    0.015                  0.009   \n",
       "\n",
       "        new_cases_smoothed_per_million  total_deaths_per_million  \\\n",
       "158311                             NaN                       NaN   \n",
       "158312                             NaN                       NaN   \n",
       "158313                             NaN                       NaN   \n",
       "158314                             NaN                       NaN   \n",
       "158315                             NaN                       NaN   \n",
       "\n",
       "        new_deaths_per_million  new_deaths_smoothed_per_million  \\\n",
       "158311                     NaN                              NaN   \n",
       "158312                     NaN                              NaN   \n",
       "158313                     NaN                              NaN   \n",
       "158314                     NaN                              NaN   \n",
       "158315                     NaN                              NaN   \n",
       "\n",
       "        reproduction_rate  icu_patients  icu_patients_per_million  \\\n",
       "158311                NaN           NaN                       NaN   \n",
       "158312                NaN           NaN                       NaN   \n",
       "158313                NaN           NaN                       NaN   \n",
       "158314                NaN           NaN                       NaN   \n",
       "158315                NaN           NaN                       NaN   \n",
       "\n",
       "        hosp_patients  hosp_patients_per_million  weekly_icu_admissions  \\\n",
       "158311            NaN                        NaN                    NaN   \n",
       "158312            NaN                        NaN                    NaN   \n",
       "158313            NaN                        NaN                    NaN   \n",
       "158314            NaN                        NaN                    NaN   \n",
       "158315            NaN                        NaN                    NaN   \n",
       "\n",
       "        weekly_icu_admissions_per_million  weekly_hosp_admissions  \\\n",
       "158311                                NaN                     NaN   \n",
       "158312                                NaN                     NaN   \n",
       "158313                                NaN                     NaN   \n",
       "158314                                NaN                     NaN   \n",
       "158315                                NaN                     NaN   \n",
       "\n",
       "        weekly_hosp_admissions_per_million  new_tests  total_tests  \\\n",
       "158311                                 NaN        NaN          NaN   \n",
       "158312                                 NaN        NaN          NaN   \n",
       "158313                                 NaN        NaN          NaN   \n",
       "158314                                 NaN        NaN          NaN   \n",
       "158315                                 NaN        NaN          NaN   \n",
       "\n",
       "        total_tests_per_thousand  new_tests_per_thousand  new_tests_smoothed  \\\n",
       "158311                       NaN                     NaN                 NaN   \n",
       "158312                       NaN                     NaN                 NaN   \n",
       "158313                       NaN                     NaN                 NaN   \n",
       "158314                       NaN                     NaN                 NaN   \n",
       "158315                       NaN                     NaN                 NaN   \n",
       "\n",
       "        new_tests_smoothed_per_thousand  positive_rate  tests_per_case  \\\n",
       "158311                              NaN            NaN             NaN   \n",
       "158312                              NaN            NaN             NaN   \n",
       "158313                              NaN            NaN             NaN   \n",
       "158314                              NaN            NaN             NaN   \n",
       "158315                              NaN            NaN             NaN   \n",
       "\n",
       "       tests_units  total_vaccinations  people_vaccinated  \\\n",
       "158311         NaN                 NaN                NaN   \n",
       "158312         NaN                 NaN                NaN   \n",
       "158313         NaN                 NaN                NaN   \n",
       "158314         NaN                 NaN                NaN   \n",
       "158315         NaN                 NaN                NaN   \n",
       "\n",
       "        people_fully_vaccinated  total_boosters  new_vaccinations  \\\n",
       "158311                      NaN             NaN               NaN   \n",
       "158312                      NaN             NaN               NaN   \n",
       "158313                      NaN             NaN               NaN   \n",
       "158314                      NaN             NaN               NaN   \n",
       "158315                      NaN             NaN               NaN   \n",
       "\n",
       "        new_vaccinations_smoothed  total_vaccinations_per_hundred  \\\n",
       "158311                        NaN                             NaN   \n",
       "158312                        NaN                             NaN   \n",
       "158313                        NaN                             NaN   \n",
       "158314                        NaN                             NaN   \n",
       "158315                        NaN                             NaN   \n",
       "\n",
       "        people_vaccinated_per_hundred  people_fully_vaccinated_per_hundred  \\\n",
       "158311                            NaN                                  NaN   \n",
       "158312                            NaN                                  NaN   \n",
       "158313                            NaN                                  NaN   \n",
       "158314                            NaN                                  NaN   \n",
       "158315                            NaN                                  NaN   \n",
       "\n",
       "        total_boosters_per_hundred  new_vaccinations_smoothed_per_million  \\\n",
       "158311                         NaN                                    NaN   \n",
       "158312                         NaN                                    NaN   \n",
       "158313                         NaN                                    NaN   \n",
       "158314                         NaN                                    NaN   \n",
       "158315                         NaN                                    NaN   \n",
       "\n",
       "        new_people_vaccinated_smoothed  \\\n",
       "158311                             NaN   \n",
       "158312                             NaN   \n",
       "158313                             NaN   \n",
       "158314                             NaN   \n",
       "158315                             NaN   \n",
       "\n",
       "        new_people_vaccinated_smoothed_per_hundred  stringency_index  \n",
       "158311                                         NaN               0.0  \n",
       "158312                                         NaN               0.0  \n",
       "158313                                         NaN               0.0  \n",
       "158314                                         NaN               0.0  \n",
       "158315                                         NaN               0.0  "
      ]
     },
     "execution_count": 56,
     "metadata": {},
     "output_type": "execute_result"
    }
   ],
   "source": [
    "us_covid_data = case_df[case_df['location'] == 'United States']\n",
    "us_covid_data.head()"
   ]
  },
  {
   "cell_type": "code",
   "execution_count": 60,
   "id": "4e5a060b",
   "metadata": {},
   "outputs": [],
   "source": [
    "us_covid_data = case_df[case_df['location'] == 'United States'][['new_cases', 'new_deaths', 'date', 'new_vaccinations', 'new_people_vaccinated_smoothed_per_hundred', 'total_cases', 'new_cases_smoothed', 'new_deaths_smoothed', 'hosp_patients', 'icu_patients', 'weekly_icu_admissions', 'new_vaccinations_smoothed']]\n",
    "india_covid_data = case_df[case_df['location'] == 'India'][['new_cases', 'new_deaths', 'date', 'new_vaccinations', 'new_people_vaccinated_smoothed_per_hundred', 'total_cases', 'new_cases_smoothed', 'new_deaths_smoothed', 'hosp_patients', 'icu_patients', 'weekly_icu_admissions', 'new_vaccinations_smoothed']]\n",
    "canada_covid_data = case_df[case_df['location'] == 'Canada'][['new_cases', 'new_deaths', 'date', 'new_vaccinations', 'new_people_vaccinated_smoothed_per_hundred', 'total_cases', 'new_cases_smoothed', 'new_deaths_smoothed', 'hosp_patients', 'icu_patients', 'weekly_icu_admissions', 'new_vaccinations_smoothed']]"
   ]
  },
  {
   "cell_type": "code",
   "execution_count": 61,
   "id": "7ec334c1",
   "metadata": {},
   "outputs": [
    {
     "data": {
      "text/plain": [
       "<AxesSubplot:>"
      ]
     },
     "execution_count": 61,
     "metadata": {},
     "output_type": "execute_result"
    },
    {
     "data": {
      "image/png": "[encoded data removed]",
      "text/plain": [
       "<Figure size 432x288 with 2 Axes>"
      ]
     },
     "metadata": {
      "needs_background": "light"
     },
     "output_type": "display_data"
    }
   ],
   "source": [
    "sns.heatmap(us_covid_data.isna())"
   ]
  },
  {
   "cell_type": "code",
   "execution_count": 62,
   "id": "cd7aeaba",
   "metadata": {},
   "outputs": [],
   "source": [
    "us_df = country_df[country_df.country == 'US']\n",
    "india_df = country_df[country_df.country == 'IN']\n",
    "canada_df = country_df[country_df.country == 'CA']"
   ]
  },
  {
   "cell_type": "code",
   "execution_count": 63,
   "id": "e7fd7fa4",
   "metadata": {},
   "outputs": [],
   "source": [
    "length_date = us_df.date.value_counts(sort=False)[1:]\n",
    "health_df = pd.concat([us_covid_data[us_covid_data.date == '21-10-01']] * us_df.date.value_counts(sort=False)[0])\n",
    "\n",
    "for num, date in enumerate(us_df.date.unique()[1:]):\n",
    "    new = pd.concat([us_covid_data[us_covid_data.date == date]] * length_date.iloc[num])\n",
    "    health_df = pd.concat((health_df,new),axis=0)\n",
    "    "
   ]
  },
  {
   "cell_type": "code",
   "execution_count": 64,
   "id": "a58c2b64",
   "metadata": {},
   "outputs": [],
   "source": [
    "length_date = canada_df.date.value_counts(sort=False)[1:]\n",
    "first_index = canada_df.date.unique()[0]\n",
    "canada_health_df = pd.concat([canada_covid_data[canada_covid_data.date == first_index]] * canada_df.date.value_counts(sort=False)[0])\n",
    "\n",
    "for num, date in enumerate(canada_df.date.unique()[1:]):\n",
    "    new = pd.concat([canada_covid_data[canada_covid_data.date == date]] * length_date.iloc[num])\n",
    "    canada_health_df = pd.concat((canada_health_df,new),axis=0)\n",
    "    "
   ]
  },
  {
   "cell_type": "code",
   "execution_count": 65,
   "id": "5b4a62e4",
   "metadata": {},
   "outputs": [],
   "source": [
    "length_date = india_df.date.value_counts(sort=False)[1:]\n",
    "first_index = india_df.date.unique()[0]\n",
    "india_health_df = pd.concat([india_covid_data[india_covid_data.date == first_index]] * india_df.date.value_counts(sort=False)[0])\n",
    "\n",
    "for num, date in enumerate(india_df.date.unique()[1:]):\n",
    "    new = pd.concat([india_covid_data[india_covid_data.date == date]] * length_date.iloc[num])\n",
    "    india_health_df = pd.concat((india_health_df,new),axis=0)\n",
    "    "
   ]
  },
  {
   "cell_type": "code",
   "execution_count": 66,
   "id": "cf9dcc4b",
   "metadata": {},
   "outputs": [],
   "source": [
    "# Check that the functions worked properly.\n",
    "count = 0\n",
    "not_in = 0\n",
    "for i in india_health_df.date.unique():\n",
    "    if i in india_health_df.date.unique():\n",
    "        count += 1\n",
    "    else: \n",
    "        not_in += 1\n",
    "        print(i)"
   ]
  },
  {
   "cell_type": "code",
   "execution_count": 67,
   "id": "fba07fe2",
   "metadata": {},
   "outputs": [
    {
     "name": "stdout",
     "output_type": "stream",
     "text": [
      "51139\n"
     ]
    },
    {
     "data": {
      "text/plain": [
       "51139"
      ]
     },
     "execution_count": 67,
     "metadata": {},
     "output_type": "execute_result"
    }
   ],
   "source": [
    "# These should be the same.\n",
    "print(len(us_df))\n",
    "len(health_df)"
   ]
  },
  {
   "cell_type": "code",
   "execution_count": 68,
   "id": "899d899d",
   "metadata": {},
   "outputs": [],
   "source": [
    "us_df.reset_index(inplace=True, drop=True)\n",
    "health_df.reset_index(inplace=True, drop=True)\n",
    "\n",
    "canada_df.reset_index(inplace=True, drop=True)\n",
    "canada_health_df.reset_index(inplace=True, drop=True)\n",
    "\n",
    "india_df.reset_index(inplace=True, drop=True)\n",
    "india_health_df.reset_index(inplace=True, drop=True)"
   ]
  },
  {
   "cell_type": "code",
   "execution_count": 69,
   "id": "21b68469",
   "metadata": {},
   "outputs": [],
   "source": [
    "health_df['health_date'] = health_df['date']"
   ]
  },
  {
   "cell_type": "code",
   "execution_count": 70,
   "id": "76f38c8f",
   "metadata": {},
   "outputs": [],
   "source": [
    "health_df.drop('date', axis=1, inplace=True)"
   ]
  },
  {
   "cell_type": "code",
   "execution_count": 71,
   "id": "a5e81d21",
   "metadata": {},
   "outputs": [],
   "source": [
    "us_health_df = pd.concat((us_df,health_df), axis=1)\n",
    "can_health_df = pd.concat((canada_df,canada_health_df), axis=1)\n",
    "india_health_df = pd.concat((india_df,india_health_df), axis=1)"
   ]
  },
  {
   "cell_type": "code",
   "execution_count": 73,
   "id": "dfb7ee11",
   "metadata": {},
   "outputs": [
    {
     "name": "stdout",
     "output_type": "stream",
     "text": [
      "8930\n"
     ]
    },
    {
     "data": {
      "text/plain": [
       "8930"
      ]
     },
     "execution_count": 73,
     "metadata": {},
     "output_type": "execute_result"
    }
   ],
   "source": [
    "# Should be the same\n",
    "print(len(can_health_df))\n",
    "len(canada_df)"
   ]
  },
  {
   "cell_type": "code",
   "execution_count": 75,
   "id": "515a6374",
   "metadata": {},
   "outputs": [
    {
     "name": "stdout",
     "output_type": "stream",
     "text": [
      "14218\n",
      "14218\n"
     ]
    }
   ],
   "source": [
    "print(len(india_health_df))\n",
    "print(len(india_df))"
   ]
  },
  {
   "cell_type": "code",
   "execution_count": 76,
   "id": "e61f2d7b",
   "metadata": {},
   "outputs": [],
   "source": [
    "can_health_df.to_csv('canada_covid_health_df.csv')\n",
    "us_health_df.to_csv('us_covid_health_df.csv')\n",
    "india_health_df.to_csv('india_covid_health_df.csv')"
   ]
  },
  {
   "cell_type": "code",
   "execution_count": null,
   "id": "349e9563",
   "metadata": {},
   "outputs": [],
   "source": []
  }
 ],
 "metadata": {
  "kernelspec": {
   "display_name": "Python 3 (ipykernel)",
   "language": "python",
   "name": "python3"
  },
  "language_info": {
   "codemirror_mode": {
    "name": "ipython",
    "version": 3
   },
   "file_extension": ".py",
   "mimetype": "text/x-python",
   "name": "python",
   "nbconvert_exporter": "python",
   "pygments_lexer": "ipython3",
   "version": "3.8.5"
  }
 },
 "nbformat": 4,
 "nbformat_minor": 5
}
